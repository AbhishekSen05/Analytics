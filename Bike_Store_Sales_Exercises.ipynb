{
  "nbformat": 4,
  "nbformat_minor": 0,
  "metadata": {
    "colab": {
      "name": "Bike_Store_Sales_Exercises.ipynb",
      "provenance": [],
      "collapsed_sections": []
    },
    "kernelspec": {
      "name": "python3",
      "display_name": "Python 3"
    },
    "language_info": {
      "name": "python"
    }
  },
  "cells": [
    {
      "cell_type": "markdown",
      "metadata": {
        "id": "traspUQoRPHA"
      },
      "source": [
        "### **Exercises**"
      ]
    },
    {
      "cell_type": "markdown",
      "metadata": {
        "id": "gI1pjI6tRTvg"
      },
      "source": [
        "#### **Bike store sales**\n",
        "\n",
        "---\n",
        "\n",
        "\n",
        "\n"
      ]
    },
    {
      "cell_type": "code",
      "metadata": {
        "id": "mWIyONR7RQ2J"
      },
      "source": [
        "import numpy as np\n",
        "import pandas as pd\n",
        "import matplotlib.pyplot as plt\n",
        "\n",
        "%matplotlib inline"
      ],
      "execution_count": 1,
      "outputs": []
    },
    {
      "cell_type": "code",
      "metadata": {
        "id": "Uttj-lnRRyNL"
      },
      "source": [
        "sales = pd.read_csv('/content/sales_data.csv',\n",
        "                    parse_dates=['Date'])\n"
      ],
      "execution_count": 4,
      "outputs": []
    },
    {
      "cell_type": "code",
      "metadata": {
        "colab": {
          "base_uri": "https://localhost:8080/",
          "height": 399
        },
        "id": "bWvWEqQJSRsr",
        "outputId": "29530128-9ddf-424c-a6c9-2db47da05069"
      },
      "source": [
        "sales.head()"
      ],
      "execution_count": 5,
      "outputs": [
        {
          "output_type": "execute_result",
          "data": {
            "text/html": [
              "<div>\n",
              "<style scoped>\n",
              "    .dataframe tbody tr th:only-of-type {\n",
              "        vertical-align: middle;\n",
              "    }\n",
              "\n",
              "    .dataframe tbody tr th {\n",
              "        vertical-align: top;\n",
              "    }\n",
              "\n",
              "    .dataframe thead th {\n",
              "        text-align: right;\n",
              "    }\n",
              "</style>\n",
              "<table border=\"1\" class=\"dataframe\">\n",
              "  <thead>\n",
              "    <tr style=\"text-align: right;\">\n",
              "      <th></th>\n",
              "      <th>Date</th>\n",
              "      <th>Day</th>\n",
              "      <th>Month</th>\n",
              "      <th>Year</th>\n",
              "      <th>Customer_Age</th>\n",
              "      <th>Age_Group</th>\n",
              "      <th>Customer_Gender</th>\n",
              "      <th>Country</th>\n",
              "      <th>State</th>\n",
              "      <th>Product_Category</th>\n",
              "      <th>Sub_Category</th>\n",
              "      <th>Product</th>\n",
              "      <th>Order_Quantity</th>\n",
              "      <th>Unit_Cost</th>\n",
              "      <th>Unit_Price</th>\n",
              "      <th>Profit</th>\n",
              "      <th>Cost</th>\n",
              "      <th>Revenue</th>\n",
              "    </tr>\n",
              "  </thead>\n",
              "  <tbody>\n",
              "    <tr>\n",
              "      <th>0</th>\n",
              "      <td>2013-11-26</td>\n",
              "      <td>26</td>\n",
              "      <td>November</td>\n",
              "      <td>2013</td>\n",
              "      <td>19</td>\n",
              "      <td>Youth (&lt;25)</td>\n",
              "      <td>M</td>\n",
              "      <td>Canada</td>\n",
              "      <td>British Columbia</td>\n",
              "      <td>Accessories</td>\n",
              "      <td>Bike Racks</td>\n",
              "      <td>Hitch Rack - 4-Bike</td>\n",
              "      <td>8</td>\n",
              "      <td>45</td>\n",
              "      <td>120</td>\n",
              "      <td>590</td>\n",
              "      <td>360</td>\n",
              "      <td>950</td>\n",
              "    </tr>\n",
              "    <tr>\n",
              "      <th>1</th>\n",
              "      <td>2015-11-26</td>\n",
              "      <td>26</td>\n",
              "      <td>November</td>\n",
              "      <td>2015</td>\n",
              "      <td>19</td>\n",
              "      <td>Youth (&lt;25)</td>\n",
              "      <td>M</td>\n",
              "      <td>Canada</td>\n",
              "      <td>British Columbia</td>\n",
              "      <td>Accessories</td>\n",
              "      <td>Bike Racks</td>\n",
              "      <td>Hitch Rack - 4-Bike</td>\n",
              "      <td>8</td>\n",
              "      <td>45</td>\n",
              "      <td>120</td>\n",
              "      <td>590</td>\n",
              "      <td>360</td>\n",
              "      <td>950</td>\n",
              "    </tr>\n",
              "    <tr>\n",
              "      <th>2</th>\n",
              "      <td>2014-03-23</td>\n",
              "      <td>23</td>\n",
              "      <td>March</td>\n",
              "      <td>2014</td>\n",
              "      <td>49</td>\n",
              "      <td>Adults (35-64)</td>\n",
              "      <td>M</td>\n",
              "      <td>Australia</td>\n",
              "      <td>New South Wales</td>\n",
              "      <td>Accessories</td>\n",
              "      <td>Bike Racks</td>\n",
              "      <td>Hitch Rack - 4-Bike</td>\n",
              "      <td>23</td>\n",
              "      <td>45</td>\n",
              "      <td>120</td>\n",
              "      <td>1366</td>\n",
              "      <td>1035</td>\n",
              "      <td>2401</td>\n",
              "    </tr>\n",
              "    <tr>\n",
              "      <th>3</th>\n",
              "      <td>2016-03-23</td>\n",
              "      <td>23</td>\n",
              "      <td>March</td>\n",
              "      <td>2016</td>\n",
              "      <td>49</td>\n",
              "      <td>Adults (35-64)</td>\n",
              "      <td>M</td>\n",
              "      <td>Australia</td>\n",
              "      <td>New South Wales</td>\n",
              "      <td>Accessories</td>\n",
              "      <td>Bike Racks</td>\n",
              "      <td>Hitch Rack - 4-Bike</td>\n",
              "      <td>20</td>\n",
              "      <td>45</td>\n",
              "      <td>120</td>\n",
              "      <td>1188</td>\n",
              "      <td>900</td>\n",
              "      <td>2088</td>\n",
              "    </tr>\n",
              "    <tr>\n",
              "      <th>4</th>\n",
              "      <td>2014-05-15</td>\n",
              "      <td>15</td>\n",
              "      <td>May</td>\n",
              "      <td>2014</td>\n",
              "      <td>47</td>\n",
              "      <td>Adults (35-64)</td>\n",
              "      <td>F</td>\n",
              "      <td>Australia</td>\n",
              "      <td>New South Wales</td>\n",
              "      <td>Accessories</td>\n",
              "      <td>Bike Racks</td>\n",
              "      <td>Hitch Rack - 4-Bike</td>\n",
              "      <td>4</td>\n",
              "      <td>45</td>\n",
              "      <td>120</td>\n",
              "      <td>238</td>\n",
              "      <td>180</td>\n",
              "      <td>418</td>\n",
              "    </tr>\n",
              "  </tbody>\n",
              "</table>\n",
              "</div>"
            ],
            "text/plain": [
              "        Date  Day     Month  Year  ...  Unit_Price Profit  Cost Revenue\n",
              "0 2013-11-26   26  November  2013  ...         120    590   360     950\n",
              "1 2015-11-26   26  November  2015  ...         120    590   360     950\n",
              "2 2014-03-23   23     March  2014  ...         120   1366  1035    2401\n",
              "3 2016-03-23   23     March  2016  ...         120   1188   900    2088\n",
              "4 2014-05-15   15       May  2014  ...         120    238   180     418\n",
              "\n",
              "[5 rows x 18 columns]"
            ]
          },
          "metadata": {},
          "execution_count": 5
        }
      ]
    },
    {
      "cell_type": "markdown",
      "metadata": {
        "id": "Z9FhKF2gUgFu"
      },
      "source": [
        "![Color.png](data:image/png;base64,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)"
      ]
    },
    {
      "cell_type": "markdown",
      "metadata": {
        "id": "pUSSpDfPUxrF"
      },
      "source": [
        "### **What's the mean of Customers_Age?**"
      ]
    },
    {
      "cell_type": "code",
      "metadata": {
        "colab": {
          "base_uri": "https://localhost:8080/"
        },
        "id": "fH0u0gx4TcYj",
        "outputId": "207965c6-2620-48a0-db24-0c6867f1961d"
      },
      "source": [
        "sales['Customer_Age'].mean()"
      ],
      "execution_count": 6,
      "outputs": [
        {
          "output_type": "execute_result",
          "data": {
            "text/plain": [
              "35.91921157861212"
            ]
          },
          "metadata": {},
          "execution_count": 6
        }
      ]
    },
    {
      "cell_type": "code",
      "metadata": {
        "colab": {
          "base_uri": "https://localhost:8080/",
          "height": 391
        },
        "id": "JGPa-Oe6U5S3",
        "outputId": "f5d8d220-f078-4589-d0d2-67322d47d2dc"
      },
      "source": [
        "# Density (KDE) with the Customer_Age data\n",
        "\n",
        "sales['Customer_Age'].plot(kind='kde', figsize=(10,6))"
      ],
      "execution_count": 14,
      "outputs": [
        {
          "output_type": "execute_result",
          "data": {
            "text/plain": [
              "<matplotlib.axes._subplots.AxesSubplot at 0x7f99960af950>"
            ]
          },
          "metadata": {},
          "execution_count": 14
        },
        {
          "output_type": "display_data",
          "data": {
            "image/png": "[encoded data removed]",
            "text/plain": [
              "<Figure size 720x432 with 1 Axes>"
            ]
          },
          "metadata": {
            "needs_background": "light"
          }
        }
      ]
    },
    {
      "cell_type": "code",
      "metadata": {
        "colab": {
          "base_uri": "https://localhost:8080/",
          "height": 395
        },
        "id": "IPY65SaLVHwg",
        "outputId": "74a72393-8eb5-406e-d69a-12214b488bcd"
      },
      "source": [
        "# Box Plot with the Customer_Age data\n",
        "\n",
        "sales['Customer_Age'].plot(kind='box', figsize=(10,6))"
      ],
      "execution_count": 12,
      "outputs": [
        {
          "output_type": "execute_result",
          "data": {
            "text/plain": [
              "<matplotlib.axes._subplots.AxesSubplot at 0x7f99961b9890>"
            ]
          },
          "metadata": {},
          "execution_count": 12
        },
        {
          "output_type": "display_data",
          "data": {
            "image/png": "[encoded data removed]",
            "text/plain": [
              "<Figure size 720x432 with 1 Axes>"
            ]
          },
          "metadata": {
            "needs_background": "light"
          }
        }
      ]
    },
    {
      "cell_type": "markdown",
      "metadata": {
        "id": "SmkLXbOjWXg9"
      },
      "source": [
        "![Color.png](data:image/png;base64,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)"
      ]
    },
    {
      "cell_type": "markdown",
      "metadata": {
        "id": "fdjTyjq7WT2S"
      },
      "source": [
        "### **What's the mean of Order_Quantity?**"
      ]
    },
    {
      "cell_type": "code",
      "metadata": {
        "colab": {
          "base_uri": "https://localhost:8080/"
        },
        "id": "WJE_iu3wVx7I",
        "outputId": "cd5eb013-db69-4208-e361-8205b8fee544"
      },
      "source": [
        "sales['Order_Quantity'].mean()"
      ],
      "execution_count": 15,
      "outputs": [
        {
          "output_type": "execute_result",
          "data": {
            "text/plain": [
              "11.901659648253654"
            ]
          },
          "metadata": {},
          "execution_count": 15
        }
      ]
    },
    {
      "cell_type": "code",
      "metadata": {
        "colab": {
          "base_uri": "https://localhost:8080/",
          "height": 391
        },
        "id": "iurnIZBXWgNg",
        "outputId": "e526757f-e8a8-4cd3-b185-fb23e150a7bd"
      },
      "source": [
        "# Histogram with the Order_Quantity data\n",
        "\n",
        "sales['Order_Quantity'].plot(kind='hist', figsize=(10,6))"
      ],
      "execution_count": 16,
      "outputs": [
        {
          "output_type": "execute_result",
          "data": {
            "text/plain": [
              "<matplotlib.axes._subplots.AxesSubplot at 0x7f999602a890>"
            ]
          },
          "metadata": {},
          "execution_count": 16
        },
        {
          "output_type": "display_data",
          "data": {
            "image/png": "[encoded data removed]",
            "text/plain": [
              "<Figure size 720x432 with 1 Axes>"
            ]
          },
          "metadata": {
            "needs_background": "light"
          }
        }
      ]
    },
    {
      "cell_type": "code",
      "metadata": {
        "colab": {
          "base_uri": "https://localhost:8080/",
          "height": 393
        },
        "id": "ZhnbyDymXN34",
        "outputId": "94de9cfd-7b8f-40a7-a989-af32839d7f38"
      },
      "source": [
        "# Box Plot with the Order_Quantity data\n",
        "\n",
        "sales['Order_Quantity'].plot(kind='box', figsize=(10,6))"
      ],
      "execution_count": 17,
      "outputs": [
        {
          "output_type": "execute_result",
          "data": {
            "text/plain": [
              "<matplotlib.axes._subplots.AxesSubplot at 0x7f9995f491d0>"
            ]
          },
          "metadata": {},
          "execution_count": 17
        },
        {
          "output_type": "display_data",
          "data": {
            "image/png": "[encoded data removed]",
            "text/plain": [
              "<Figure size 720x432 with 1 Axes>"
            ]
          },
          "metadata": {
            "needs_background": "light"
          }
        }
      ]
    },
    {
      "cell_type": "markdown",
      "metadata": {
        "id": "8U7ffRIVXn3x"
      },
      "source": [
        "![Color.png](data:image/png;base64,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)"
      ]
    },
    {
      "cell_type": "markdown",
      "metadata": {
        "id": "nq3_KujZXuMB"
      },
      "source": [
        "### **How many sales per year do we have?**"
      ]
    },
    {
      "cell_type": "code",
      "metadata": {
        "colab": {
          "base_uri": "https://localhost:8080/"
        },
        "id": "2-hoZMIrXv4p",
        "outputId": "a8550e19-8f10-4dc9-8904-2d0411c3b0bb"
      },
      "source": [
        "sales['Year'].value_counts()"
      ],
      "execution_count": 19,
      "outputs": [
        {
          "output_type": "execute_result",
          "data": {
            "text/plain": [
              "2016    29398\n",
              "2014    29398\n",
              "2015    24443\n",
              "2013    24443\n",
              "2012     2677\n",
              "2011     2677\n",
              "Name: Year, dtype: int64"
            ]
          },
          "metadata": {},
          "execution_count": 19
        }
      ]
    },
    {
      "cell_type": "code",
      "metadata": {
        "colab": {
          "base_uri": "https://localhost:8080/",
          "height": 375
        },
        "id": "gNdEYjqLX6u5",
        "outputId": "a6ee121f-4fe3-4b7d-f6a9-e73327b4ec39"
      },
      "source": [
        "# Pie Plot with the Year data\n",
        "\n",
        "sales['Year'].value_counts().plot(kind='pie', figsize=(6,6))"
      ],
      "execution_count": 21,
      "outputs": [
        {
          "output_type": "execute_result",
          "data": {
            "text/plain": [
              "<matplotlib.axes._subplots.AxesSubplot at 0x7f9996220390>"
            ]
          },
          "metadata": {},
          "execution_count": 21
        },
        {
          "output_type": "display_data",
          "data": {
            "image/png": "[encoded data removed]",
            "text/plain": [
              "<Figure size 432x432 with 1 Axes>"
            ]
          },
          "metadata": {}
        }
      ]
    },
    {
      "cell_type": "markdown",
      "metadata": {
        "id": "U41dkquzZZqt"
      },
      "source": [
        "![Color.png](data:image/png;base64,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)"
      ]
    },
    {
      "cell_type": "markdown",
      "metadata": {
        "id": "aUz0JbJ7ZgZ9"
      },
      "source": [
        "### **How many sales per month do we have?**"
      ]
    },
    {
      "cell_type": "code",
      "metadata": {
        "colab": {
          "base_uri": "https://localhost:8080/"
        },
        "id": "-9x5DGrzZevz",
        "outputId": "8c117b1e-dc08-4c29-c041-a41ce8425070"
      },
      "source": [
        "sales['Month'].value_counts()"
      ],
      "execution_count": 23,
      "outputs": [
        {
          "output_type": "execute_result",
          "data": {
            "text/plain": [
              "June         11234\n",
              "December     11200\n",
              "May          11128\n",
              "April        10182\n",
              "March         9674\n",
              "January       9284\n",
              "February      9022\n",
              "October       8750\n",
              "November      8734\n",
              "August        8200\n",
              "September     8166\n",
              "July          7462\n",
              "Name: Month, dtype: int64"
            ]
          },
          "metadata": {},
          "execution_count": 23
        }
      ]
    },
    {
      "cell_type": "code",
      "metadata": {
        "colab": {
          "base_uri": "https://localhost:8080/",
          "height": 437
        },
        "id": "TXyZGE7JZus2",
        "outputId": "44e895d6-3d28-471e-a149-29d6b8ed9db4"
      },
      "source": [
        "# Bar Plot with the Month data\n",
        "\n",
        "sales['Month'].value_counts().plot(kind='bar',figsize=(6,6))"
      ],
      "execution_count": 25,
      "outputs": [
        {
          "output_type": "execute_result",
          "data": {
            "text/plain": [
              "<matplotlib.axes._subplots.AxesSubplot at 0x7f993888e7d0>"
            ]
          },
          "metadata": {},
          "execution_count": 25
        },
        {
          "output_type": "display_data",
          "data": {
            "image/png": "[encoded data removed]",
            "text/plain": [
              "<Figure size 432x432 with 1 Axes>"
            ]
          },
          "metadata": {
            "needs_background": "light"
          }
        }
      ]
    },
    {
      "cell_type": "markdown",
      "metadata": {
        "id": "zM56pZKRaF5a"
      },
      "source": [
        "![Color.png](data:image/png;base64,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)"
      ]
    },
    {
      "cell_type": "markdown",
      "metadata": {
        "id": "wzoRDvxwaI2c"
      },
      "source": [
        "### **Which country has the most sales quantity of sales?**"
      ]
    },
    {
      "cell_type": "code",
      "metadata": {
        "colab": {
          "base_uri": "https://localhost:8080/"
        },
        "id": "5bJOo7pFZ66N",
        "outputId": "7786b77a-41f7-4c39-c883-56246057c5df"
      },
      "source": [
        "sales['Country'].value_counts().head(1)"
      ],
      "execution_count": 33,
      "outputs": [
        {
          "output_type": "execute_result",
          "data": {
            "text/plain": [
              "United States    39206\n",
              "Name: Country, dtype: int64"
            ]
          },
          "metadata": {},
          "execution_count": 33
        }
      ]
    },
    {
      "cell_type": "code",
      "metadata": {
        "colab": {
          "base_uri": "https://localhost:8080/"
        },
        "id": "_7Bq9IbwacwA",
        "outputId": "d4b68aff-873c-4f42-d89a-4cd30d7c157f"
      },
      "source": [
        "sales['Country'].value_counts().head()"
      ],
      "execution_count": 35,
      "outputs": [
        {
          "output_type": "execute_result",
          "data": {
            "text/plain": [
              "United States     39206\n",
              "Australia         23936\n",
              "Canada            14178\n",
              "United Kingdom    13620\n",
              "Germany           11098\n",
              "Name: Country, dtype: int64"
            ]
          },
          "metadata": {},
          "execution_count": 35
        }
      ]
    },
    {
      "cell_type": "code",
      "metadata": {
        "colab": {
          "base_uri": "https://localhost:8080/",
          "height": 353
        },
        "id": "5nyzLl5XbBDq",
        "outputId": "57f3d360-69b0-4265-c35a-d5ff490dc835"
      },
      "source": [
        "# Bar Plot with the Country data\n",
        "\n",
        "sales['Country'].value_counts().plot(kind='bar', figsize=(4,4))"
      ],
      "execution_count": 37,
      "outputs": [
        {
          "output_type": "execute_result",
          "data": {
            "text/plain": [
              "<matplotlib.axes._subplots.AxesSubplot at 0x7f9929ea2fd0>"
            ]
          },
          "metadata": {},
          "execution_count": 37
        },
        {
          "output_type": "display_data",
          "data": {
            "image/png": "[encoded data removed]",
            "text/plain": [
              "<Figure size 288x288 with 1 Axes>"
            ]
          },
          "metadata": {
            "needs_background": "light"
          }
        }
      ]
    },
    {
      "cell_type": "markdown",
      "metadata": {
        "id": "fzgdJSNmbU0Y"
      },
      "source": [
        "![Color.png](data:image/png;base64,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)"
      ]
    },
    {
      "cell_type": "markdown",
      "metadata": {
        "id": "lmQgjQCubXOU"
      },
      "source": [
        "### **Create a list of every product sold**"
      ]
    },
    {
      "cell_type": "code",
      "metadata": {
        "colab": {
          "base_uri": "https://localhost:8080/"
        },
        "id": "Fh301NGLbNzT",
        "outputId": "d50bac03-6efc-4ef6-e292-d9ea0a545169"
      },
      "source": [
        "sales['Product'].unique()"
      ],
      "execution_count": 38,
      "outputs": [
        {
          "output_type": "execute_result",
          "data": {
            "text/plain": [
              "array(['Hitch Rack - 4-Bike', 'All-Purpose Bike Stand',\n",
              "       'Mountain Bottle Cage', 'Water Bottle - 30 oz.',\n",
              "       'Road Bottle Cage', 'AWC Logo Cap', 'Bike Wash - Dissolver',\n",
              "       'Fender Set - Mountain', 'Half-Finger Gloves, L',\n",
              "       'Half-Finger Gloves, M', 'Half-Finger Gloves, S',\n",
              "       'Sport-100 Helmet, Black', 'Sport-100 Helmet, Red',\n",
              "       'Sport-100 Helmet, Blue', 'Hydration Pack - 70 oz.',\n",
              "       'Short-Sleeve Classic Jersey, XL',\n",
              "       'Short-Sleeve Classic Jersey, L', 'Short-Sleeve Classic Jersey, M',\n",
              "       'Short-Sleeve Classic Jersey, S', 'Long-Sleeve Logo Jersey, M',\n",
              "       'Long-Sleeve Logo Jersey, XL', 'Long-Sleeve Logo Jersey, L',\n",
              "       'Long-Sleeve Logo Jersey, S', 'Mountain-100 Silver, 38',\n",
              "       'Mountain-100 Silver, 44', 'Mountain-100 Black, 48',\n",
              "       'Mountain-100 Silver, 48', 'Mountain-100 Black, 38',\n",
              "       'Mountain-200 Silver, 38', 'Mountain-100 Black, 44',\n",
              "       'Mountain-100 Silver, 42', 'Mountain-200 Black, 46',\n",
              "       'Mountain-200 Silver, 42', 'Mountain-200 Silver, 46',\n",
              "       'Mountain-200 Black, 38', 'Mountain-100 Black, 42',\n",
              "       'Mountain-200 Black, 42', 'Mountain-400-W Silver, 46',\n",
              "       'Mountain-500 Silver, 40', 'Mountain-500 Silver, 44',\n",
              "       'Mountain-500 Black, 48', 'Mountain-500 Black, 40',\n",
              "       'Mountain-400-W Silver, 42', 'Mountain-500 Silver, 52',\n",
              "       'Mountain-500 Black, 52', 'Mountain-500 Silver, 42',\n",
              "       'Mountain-500 Black, 44', 'Mountain-500 Silver, 48',\n",
              "       'Mountain-400-W Silver, 38', 'Mountain-400-W Silver, 40',\n",
              "       'Mountain-500 Black, 42', 'Road-150 Red, 48', 'Road-150 Red, 62',\n",
              "       'Road-750 Black, 48', 'Road-750 Black, 58', 'Road-750 Black, 52',\n",
              "       'Road-150 Red, 52', 'Road-150 Red, 44', 'Road-150 Red, 56',\n",
              "       'Road-750 Black, 44', 'Road-350-W Yellow, 40',\n",
              "       'Road-350-W Yellow, 42', 'Road-250 Black, 44',\n",
              "       'Road-250 Black, 48', 'Road-350-W Yellow, 48',\n",
              "       'Road-550-W Yellow, 44', 'Road-550-W Yellow, 38',\n",
              "       'Road-250 Black, 52', 'Road-550-W Yellow, 48', 'Road-250 Red, 58',\n",
              "       'Road-250 Black, 58', 'Road-250 Red, 52', 'Road-250 Red, 48',\n",
              "       'Road-250 Red, 44', 'Road-550-W Yellow, 42',\n",
              "       'Road-550-W Yellow, 40', 'Road-650 Red, 48', 'Road-650 Red, 60',\n",
              "       'Road-650 Black, 48', 'Road-350-W Yellow, 44', 'Road-650 Red, 52',\n",
              "       'Road-650 Black, 44', 'Road-650 Red, 62', 'Road-650 Red, 58',\n",
              "       'Road-650 Black, 60', 'Road-650 Black, 58', 'Road-650 Black, 52',\n",
              "       'Road-650 Black, 62', 'Road-650 Red, 44',\n",
              "       \"Women's Mountain Shorts, M\", \"Women's Mountain Shorts, S\",\n",
              "       \"Women's Mountain Shorts, L\", 'Racing Socks, L', 'Racing Socks, M',\n",
              "       'Mountain Tire Tube', 'Touring Tire Tube', 'Patch Kit/8 Patches',\n",
              "       'HL Mountain Tire', 'LL Mountain Tire', 'Road Tire Tube',\n",
              "       'LL Road Tire', 'Touring Tire', 'ML Mountain Tire', 'HL Road Tire',\n",
              "       'ML Road Tire', 'Touring-1000 Yellow, 50', 'Touring-1000 Blue, 46',\n",
              "       'Touring-1000 Yellow, 60', 'Touring-1000 Blue, 50',\n",
              "       'Touring-3000 Yellow, 50', 'Touring-3000 Blue, 54',\n",
              "       'Touring-3000 Blue, 58', 'Touring-3000 Yellow, 44',\n",
              "       'Touring-3000 Yellow, 54', 'Touring-3000 Blue, 62',\n",
              "       'Touring-3000 Blue, 44', 'Touring-1000 Blue, 54',\n",
              "       'Touring-1000 Yellow, 46', 'Touring-1000 Blue, 60',\n",
              "       'Touring-3000 Yellow, 62', 'Touring-1000 Yellow, 54',\n",
              "       'Touring-2000 Blue, 54', 'Touring-3000 Blue, 50',\n",
              "       'Touring-3000 Yellow, 58', 'Touring-2000 Blue, 46',\n",
              "       'Touring-2000 Blue, 50', 'Touring-2000 Blue, 60',\n",
              "       'Classic Vest, L', 'Classic Vest, M', 'Classic Vest, S'],\n",
              "      dtype=object)"
            ]
          },
          "metadata": {},
          "execution_count": 38
        }
      ]
    },
    {
      "cell_type": "code",
      "metadata": {
        "colab": {
          "base_uri": "https://localhost:8080/"
        },
        "id": "raRrMKhxbolt",
        "outputId": "dfa96fdc-83e0-440b-a8d2-9d8e73f36727"
      },
      "source": [
        "len(sales['Product'].unique())"
      ],
      "execution_count": 40,
      "outputs": [
        {
          "output_type": "execute_result",
          "data": {
            "text/plain": [
              "130"
            ]
          },
          "metadata": {},
          "execution_count": 40
        }
      ]
    },
    {
      "cell_type": "code",
      "metadata": {
        "colab": {
          "base_uri": "https://localhost:8080/"
        },
        "id": "X33KRE81btJO",
        "outputId": "5943a053-372f-4c48-af89-98908e26143a"
      },
      "source": [
        "sales['Product'].value_counts().head(10)"
      ],
      "execution_count": 44,
      "outputs": [
        {
          "output_type": "execute_result",
          "data": {
            "text/plain": [
              "Water Bottle - 30 oz.      10794\n",
              "Patch Kit/8 Patches        10416\n",
              "Mountain Tire Tube          6816\n",
              "AWC Logo Cap                4358\n",
              "Sport-100 Helmet, Red       4220\n",
              "Road Tire Tube              4176\n",
              "Sport-100 Helmet, Black     4152\n",
              "Fender Set - Mountain       4032\n",
              "Sport-100 Helmet, Blue      3788\n",
              "Touring Tire Tube           3702\n",
              "Name: Product, dtype: int64"
            ]
          },
          "metadata": {},
          "execution_count": 44
        }
      ]
    },
    {
      "cell_type": "code",
      "metadata": {
        "colab": {
          "base_uri": "https://localhost:8080/",
          "height": 503
        },
        "id": "qt9pBGcbcxjB",
        "outputId": "39a89360-e8a9-449e-9552-7854452d142d"
      },
      "source": [
        "# Bar Plot with the Product data\n",
        "\n",
        "sales['Product'].value_counts().head(10).plot(kind='bar', figsize=(6,6))"
      ],
      "execution_count": 45,
      "outputs": [
        {
          "output_type": "execute_result",
          "data": {
            "text/plain": [
              "<matplotlib.axes._subplots.AxesSubplot at 0x7f9929df7450>"
            ]
          },
          "metadata": {},
          "execution_count": 45
        },
        {
          "output_type": "display_data",
          "data": {
            "image/png": "[encoded data removed]",
            "text/plain": [
              "<Figure size 432x432 with 1 Axes>"
            ]
          },
          "metadata": {
            "needs_background": "light"
          }
        }
      ]
    },
    {
      "cell_type": "markdown",
      "metadata": {
        "id": "gengtF3yddLd"
      },
      "source": [
        "![Color.png](data:image/png;base64,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)"
      ]
    },
    {
      "cell_type": "markdown",
      "metadata": {
        "id": "HrhtWBJIdh1h"
      },
      "source": [
        "### **Can you see any relationship between Unit_Cost and Unit_Price?**"
      ]
    },
    {
      "cell_type": "code",
      "metadata": {
        "colab": {
          "base_uri": "https://localhost:8080/",
          "height": 407
        },
        "id": "iuQHzrPedXeH",
        "outputId": "86a9b80e-f83b-4eae-ade3-7249e7f0a4f4"
      },
      "source": [
        "sales.plot(kind = 'scatter',x='Unit_Cost',y='Unit_Price', figsize=(6,6))"
      ],
      "execution_count": 48,
      "outputs": [
        {
          "output_type": "execute_result",
          "data": {
            "text/plain": [
              "<matplotlib.axes._subplots.AxesSubplot at 0x7f99289e0950>"
            ]
          },
          "metadata": {},
          "execution_count": 48
        },
        {
          "output_type": "display_data",
          "data": {
            "image/png": "[encoded data removed]",
            "text/plain": [
              "<Figure size 432x432 with 1 Axes>"
            ]
          },
          "metadata": {
            "needs_background": "light"
          }
        }
      ]
    },
    {
      "cell_type": "markdown",
      "metadata": {
        "id": "MHJoMHyMeIab"
      },
      "source": [
        "![Color.png](data:image/png;base64,iVBORw0KGgoAAAANSUhEUgAABLAAAAAUCAYAAACd48QkAAAMPmlDQ1BQaG90b3Nob3AgSUNDIHByb2ZpbGUAAHjarVd3VJN3F37ekYRACCMRAUHCRhAFFGQIsocgIBtchCRAIITwJkHFba2taB2oOHBUtCpqtXWAUgei1lncq46iFie1qMWtfH8kYGu/f75zvt85eXPP83vuc597z3tycgGTZLFKpSBNgRKlhkmJCRdlZeeIOHdBgA+ADR+xRK0KS05OAIDu73+el1dAAMBFT7FKpcD/dsykMrUEIJIB5EnVkhKA2A3QfhIVowFY7QAcx2tUGoBtCkDIZGXnAGwnAMICXewPQJinixMACJm0lAiAnQsY8MRipgDgKwCIyiUFGoA/D4CXUipXAvz9AEIkhWIpwH8PoH9JSakUMHED4Jb3N52Cf2jm9WiKxQU9sa4XAIBBpFytUogn4v99ShTa7hqOAHiFTGwKACFA7C4ujU8BwAOIE8q8xCQA5gBxSS4F9PH9Qm1sup7/WqKOyAFgAZA8qTgyHoANQDooFYkJejwkXx4dB8AUINPkmrg0XS4pZUpT9PrkBJk6KrU7FjOAnlOpLU4P02uuKZTFdWs2VhSmZep8kufK5RmJAPgAeVNdnBqv5zyuKIxI7OYw2pR0AE4AhXwmOkXHoZxK1N19UYGF8rhEfZygKUyL1eVSYyXiqFQAlgBVJFNnJXT7lMoio3R9UTNlynS9f6pKpQlP0fM3qBTJej61X6aISQHgAFAt6vLU7twODZOmnz8NlSY5TeeNFhaJhyfrPNDuSEAEIiGCFiLkoRRFkLe0N7RDpL+JhhgMCiCDpx7pzsiEGAyUECMVFfgDSsig7skLhxgMZCiHEh96UN3TE/kQg0E5ZFCjGPfBoATxUEAGLRjIoOyploHfwUD+r+oSlEKBUjCQ/xsTmXRj7Ch2JDuWHc3uR1vTIXQQnUCH0KF0CO1D+9MB3b4+8Vn3WedZd1mXWa2s6+PkM5nPnIswAq3Q6qciQ97fu6NdaB/alw6ng+kQOgAi2oK2hic9mPanw+hhdBDtSwf8w6u2p+NPs9Rrcb24JLc3N5Tr9rkDvjvft0dFBuU/ZqHzldczrYiem8/7iPjb/KQoRfznTOprahd1nDpMnaT2Uw0QUYeovdQZ6gDV8Ld343cwKOiplgIZlCiGAvJ/1RPrazKQQe211euR13v9HTSyCRoAiChVTWTkBYUaUZhKpZCJ4pSSAf1FPl7e/kBWdo5I99PywgIEAMLi1CesrAkIqASIgk+Y2BHYdx8QvPyEOT4HeAuBA+ckWqZch9EAwIIhTCCEFfrCEW7whA/8EIRQRGE4kpCGbIyFBIUoAYPxmIwZmI25WIilWIm1WI/N+B470YD9OIyfcRrncBk30Io2PEEHXuIdQRAcwpgQEFaEHeFMeBA+hD8RQkQRCUQKkU3kEgWEktASk4kviLlEFbGSWEfUET8S+4jDxEniPHGduEM8Ip4Tb0mK5JFC0pZ0IQeS/mQYGU+mkWPIArKMrCBnkfPJ5WQtuY2sJw+Tp8nLZCv5hOykQBlRFpQ95Un5UxFUEpVD5VMMNZWqpKqpWmo71Ugdpy5SrVQ79YZm0wJaRHvSQXQsnU5L6DJ6Kj2PXklvpuvpo/RF+g7dQX9kGbNsWB6sQFYcK4tVwBrPms2qZm1k7WEdY11mtbFestlsC7Yrewg7lp3NLmJPYs9jr2bvYDexz7PvsTs5HI4Vx4MTzEniiDkazmzOCs42ziHOBU4b57WBkYGdgY9BtEGOgdJgpkG1wRaDgwYXDB4YvOOacp25gdwkrpQ7kbuAu4HbyD3LbeO+MzQzdDUMNkwzLDKcYbjccLvhMcObhi+MjIwcjAKMRhrJjaYbLTf6weiE0R2jNzxznjsvgjeap+XN523iNfGu814YGxu7GIca5xhrjOcb1xkfMb5t/Jov4A/gx/Gl/Gn8Gn49/wL/qQnXxNkkzGSsSYVJtckuk7Mm7aZcUxfTCFOx6VTTGtN9pldNO80EZt5mSWYlZvPMtpidNHtozjF3MY8yl5rPMl9vfsT8noASOAoiBBLBF4INgmOCNiFb6CqMExYJ5wq/F7YIO3qZ9xrcK6PXhF41vQ70arWgLFws4iwUFgssdlpcsXjb27Z3WG9Z7zm9t/e+0PuVZR/LUEuZZaXlDsvLlm+tRFZRVsVWi6warG5Z09bu1iOtx1uvsT5m3d5H2Ceoj6RPZZ+dfX61IW3cbVJsJtmstzlj02nb1zbGVmW7wvaIbXtfi76hfYv6Lul7sO8jO4FdiJ3cbondIbvHol6iMJFCtFx0VNRhb2Mfa6+1X2ffYv/OwdUh3WGmww6HW46Gjv6O+Y5LHJsdO5zsnEY4TXba6vSrM9fZ37nQeZnzcedXLq4umS5fuTS4PHS1dI1zrXDd6nrTzdhtmFuZW63bpX7sfv79ivut7nfOnXT3dS90r3E/60F6+HnIPVZ7nO/P6h/QX9m/tv9VT55nmGe551bPOwMsBiQMmDmgYcDTgU4DcwYuGnh84EcvXy+F1wavG97m3sO9Z3o3ej/3cfeR+NT4XBpkPCh60LRBewc9G+wxWDZ4zeBrvgLfEb5f+Tb7fvAb4sf4bfd7NMRpSO6QVUOu+gv9k/3n+Z8IYAWEB0wL2B/wJtAvUBO4M/DPIM+g4qAtQQ+Hug6VDd0w9F6wQ7A4eF1wa4goJDfk25DWYfbDxMNqh90NdQyVhm4MfRDWL6wobFvY03CvcCZ8T/iriMCIKRFNkVRkTGRlZEuUeVR61Mqo29EO0QXRW6M7YnxjJsU0xbJi42MXxV6Ns42TxNXFdQwfMnzK8KPxvPjU+JXxdxPcE5iExhHkiOEjFo+4meicqExsSEJSXNLipFvJrsllyT+NZI9MHlkz8n6Kd8rklOOpgtRxqVtSX6aFpy1Iu5Hulq5Nb84wyRidUZfxKjMysyqzNWtg1pSs09nW2fLsvTmcnIycjTmdo6JGLR3VNtp39OzRV8a4jpkw5uRY67GKsQfGmYwTj9uVy8rNzN2S+16cJK4Vd+bF5a3K65BESJZJnkhDpUukj2TBsirZg/zg/Kr8hwXBBYsLHhUOK6wubJdHyFfKnxXFFq0telWcVLypuEuRqdhRYlCSW7JPaa4sVh4t7Vs6ofS8ykM1W9VaFli2tKyDiWc2qgn1GPVejVCj0pzRumm/1N4pDymvKX89PmP8rglmE5QTzkx0nzhn4oOK6IrvJtGTJJOaJ9tPnjH5zpSwKeumElPzpjZPc5w2a1rb9Jjpm2cYziie8ctMr5lVM//6IvOLxlm2s6bPuvdlzJdbZ/NnM7OvfhX01dqv6a/lX7fMGTRnxZyPldLKU3O95lbPfT9PMu/UN97fLP+ma37+/JYFfgvWLGQvVC68smjYos1VZlUVVfcWj1hcv0S0pHLJX0vHLT1ZPbh67TLDZdplrcsTlu9d4bRi4Yr3KwtXXq4Jr9mxymbVnFWvVktXX1gTumb7Wtu1c9e+/Vb+7bV1Mevqa11qq9ez15evv78hY8Px7/y/q9tovXHuxg+blJtaN6dsPlo3pK5ui82WBVvJrdqtj7aN3nbu+8jv92733L5uh8WOuT/gB+0Pj3/M/fHKzvidzbv8d23f7bx71R7Bnsp6on5ifUdDYUPr3uy95/cN39fcGNS456cBP23ab7+/5kCvAwsOGh6cdbDrUMWhziZVU/vhgsP3msc13ziSdeTS0ZFHW47FHzvxc/TPR46HHT90IvjE/pOBJ/ed8j/VcNrvdP0Z3zN7fvH9ZU+LX0v92SFn954LONd4fuj5gxeGXTh8MfLiz5fiLp2+nHj5/JX0K9eujr7aek167eF1xfVnv5b/+u7G9Jusm5W3TG9V37a5Xftbv992tPq1HrgTeefM3dS7N+5J7j35Xf37+7ZZ943vVz+we1D30Ofh/kfRj849HvW47Ynqybv22X+Y/bHqqdvT3X+G/nmmI6uj7RnzrOv5vBdWLzb9Nfiv5s7kztsvS16+e1X52ur15jf+b46/zXz74N3495z3yz/0+9D4Mf7jza6Sri6VmBEDACgAZH4+8HwTYJwNCM4BhqN0uxkAgNDtk4DuP8h/j3X7GwDAD9gUCqRPBxKagDVNgPN0gNcEJANICwU5aFDPR3/U+YN8dFo8BmC97up6YQtwGoEPTFfXu9VdXR82ANR1oKlMtxMCuh30W3cAODvUSPX5bvYfNMxwBrIZxRkAAAAgY0hSTQAAbXUAAHOgAAD83QAAg2QAAHDoAADsaAAAMD4AABCQ5OyZ6gAABglJREFUeNrsnMFxG0EMBHEJKAsHoOwVhfS3s1AAPL9cpbLvcb4FZuao5lsraUEQg+4iudXb472qXqvqs/48tr2uPQ7ObUc/duL3byd//5nHlnpuuA5bU/1O3+nk83/5f7hah/1iDRvvsy30w9bUS5druNA3f5+NqYN4Jlzupb1vJiTM1Mtnv2sdQjPiaq4f/Z+XX4sLvWOv4d7XE511uJxxe/BsHDx3WIfSz5KunI2YjY11iMhZdVb+Tx8OzkZ5Lw3vjRE5u4e8DtS9pJ4lwxlxNScS9u6EfNn2l6r62Ort8bOqfkgh7dkFVkJ4WIL06mJds/dBYM3AlnKxbq8DAssDJ4XA6ljK4xbrQmB1zFQElgC2EFjjgGGBztScRWBpeunJBNZS/RBYa689BNbIa6pPYFVV/UJgWc8hsNaABYFlhS3lYt1eBwSWB04KgdWxlLszAoE1M1MRWALYQmCNA4YFOlNzFoGl6SUElm82TvdSwCxpzdnHTQRWyEw9vgsCy3sOgbUGLAgsK2wpF+v2OiCwPHBSCKyOpdydEQismZmKwBLAFgJrHDBSoDMiZxFYml5CYPlm43QvIbA8e3fITD2+CwLLew6BtQYsCCwrbCkX6/Y6ILA8cFIIrI6l3J0RCKyZmYrAEsAWAmscMFKgMyJnEViaXkJgZc/G+gYCi48QSvIFgZVwDoG1BiwILCtsqUMAgXWzhXI4SBFYvoxAYM3MVASWB7YQWEGzEYHVUkMEVu9rG4Fl7CUElmfvDpmpx3dBYHnPIbDWgAWBZYUtdQggsG62UHaeRWBFZQQCa2amIrAEsIXAGgeMFOiMyFkElqaXEFi+2TjdS3f5Evezf5OPEC49RwisJw8PS5AisNagAIGlqYMDMkJCoGsmILBEdUBgrYsWBNbyczv5PCKw1mcJAisnZxFYpl5CYPlm43QvIbBi9u6EfEFgJZxDYK0BCwLLClvKxbq9DrwDywMnhcDqWMrdGYHAmpmpCCwBbCGwxgHDAp2pOYvA0vQSAss3G6d7iS9x9+zdITP1+C4ILO85BNYasCCwrLClXKzb64DA8sBJIbA6lnJ3RiCwZmYqAksAWwisccBIgc6InEVgaXoJgeWbjdO9hMCK2bsT8gWBlXAOgbUGLAgsK2wpF+v2OiCwPHBSCKyOpdydEQismZmKwBLAFgJrHDBSoDMiZxFYml5CYPlm43QvIbA8e3fITD2+CwLLew6BtQYsCCwrbCkX6/Y6ILA8cFIIrI6l3J0RCKyZmYrAEsAWAmscMFKgMyJnEViaXkJg+WbjdC8hsGL27oR8QWAlnENgrQELAssKW8rFur0OCCwPnBQCq2Mpd2cEAmtmpiKwBLCFwBoHjBTojMhZBJamlxBYvtk43Ut3EVhn/x7vwFp6jhBYCecQWGvAgsCywpY6BBBYN1soO88isKIyAoE1M1MRWALYQmCNA0YKdEbkLAJL00sILN9snO6lZ3oH1n49JxBYX++CwPKeQ2CtAQsCywpbysW6vQ4ILA+cFAKrYyl3ZwQCa2amIrAEsIXAGgeMFOiMyFkElqaXEFi+2TjdS7wDK2bvTsgXBFbCOQTWGrAgsKywpQ4BBNbNFsrhIEVg+TICgTUzUxFYAthCYI0DRgp0RuQsAkvTSwgs32yc7iW+A8uzd4fM1OO7ILC85xBYa8CCwLLClnKxbq8DAssDJ4XA6ljK3RmBwJqZqQgsAWwhsMYBIwU6I3IWgaXpJQSWbzZO9xICy7N3h8zU47sgsLznEFhrwILAssKWcrFurwMCywMnhcDqWMrdGYHAmpmpCCwBbCGwxgEjBTojchaBpeklBJZvNk73knqWTGZEFR8hXHyOEFhPHh6WIEVgrUEBAktXBwSWB04KgdWxlLszAoE1M1MRWALYQmCNA4YFOlNzFoGl6SUElm82TvfSMwmsO32Je77Aeq+q16r6lEEa78DKhhP5Yl2z90FgzcCWcrFurwMCywMnhcDqWMrdGYHAmpmpCCwBbCGwxgHDAp2pOYvA0vQSAss3G6d7iY8QevbukJn6711equrjNwAAAP//AwDoG6XGVU1ATgAAAABJRU5ErkJggg==)"
      ]
    },
    {
      "cell_type": "markdown",
      "metadata": {
        "id": "CK65JeIneLt-"
      },
      "source": [
        "### **Can you see any relationship between Order_Quantity and Profit?**"
      ]
    },
    {
      "cell_type": "code",
      "metadata": {
        "colab": {
          "base_uri": "https://localhost:8080/",
          "height": 407
        },
        "id": "9JYr3SoRd3i2",
        "outputId": "93f5cef0-adbd-4e73-eedf-5be2cb107f8d"
      },
      "source": [
        "sales.plot(kind='scatter',x='Order_Quantity',y='Profit',figsize=(6,6))"
      ],
      "execution_count": 49,
      "outputs": [
        {
          "output_type": "execute_result",
          "data": {
            "text/plain": [
              "<matplotlib.axes._subplots.AxesSubplot at 0x7f99326e4a90>"
            ]
          },
          "metadata": {},
          "execution_count": 49
        },
        {
          "output_type": "display_data",
          "data": {
            "image/png": "[encoded data removed]",
            "text/plain": [
              "<Figure size 432x432 with 1 Axes>"
            ]
          },
          "metadata": {
            "needs_background": "light"
          }
        }
      ]
    },
    {
      "cell_type": "markdown",
      "metadata": {
        "id": "ExpB8asqegII"
      },
      "source": [
        "![Color.png](data:image/png;base64,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)"
      ]
    },
    {
      "cell_type": "markdown",
      "metadata": {
        "id": "-FZ8NfGHeiVX"
      },
      "source": [
        "### **Can you see any relationship between Profit per Country?**"
      ]
    },
    {
      "cell_type": "code",
      "metadata": {
        "colab": {
          "base_uri": "https://localhost:8080/",
          "height": 405
        },
        "id": "MZ0cutMheZeJ",
        "outputId": "76ca673b-088f-49f8-f01e-e12272c902da"
      },
      "source": [
        "sales.plot(kind='scatter', x='Country',y='Profit',figsize=(6,6))"
      ],
      "execution_count": 51,
      "outputs": [
        {
          "output_type": "execute_result",
          "data": {
            "text/plain": [
              "<matplotlib.axes._subplots.AxesSubplot at 0x7f9934672850>"
            ]
          },
          "metadata": {},
          "execution_count": 51
        },
        {
          "output_type": "display_data",
          "data": {
            "image/png": "[encoded data removed]",
            "text/plain": [
              "<Figure size 432x432 with 1 Axes>"
            ]
          },
          "metadata": {
            "needs_background": "light"
          }
        }
      ]
    },
    {
      "cell_type": "code",
      "metadata": {
        "colab": {
          "base_uri": "https://localhost:8080/",
          "height": 492
        },
        "id": "WG8cy44Xe320",
        "outputId": "8692209d-8a10-434d-8ea0-9f7782db20f8"
      },
      "source": [
        "sales[['Profit','Country']].boxplot(by='Country',figsize=(6,6))"
      ],
      "execution_count": 52,
      "outputs": [
        {
          "output_type": "stream",
          "name": "stderr",
          "text": [
            "/usr/local/lib/python3.7/dist-packages/numpy/core/_asarray.py:83: VisibleDeprecationWarning: Creating an ndarray from ragged nested sequences (which is a list-or-tuple of lists-or-tuples-or ndarrays with different lengths or shapes) is deprecated. If you meant to do this, you must specify 'dtype=object' when creating the ndarray\n",
            "  return array(a, dtype, copy=False, order=order)\n"
          ]
        },
        {
          "output_type": "execute_result",
          "data": {
            "text/plain": [
              "<matplotlib.axes._subplots.AxesSubplot at 0x7f9930932b50>"
            ]
          },
          "metadata": {},
          "execution_count": 52
        },
        {
          "output_type": "display_data",
          "data": {
            "image/png": "[encoded data removed]",
            "text/plain": [
              "<Figure size 432x432 with 1 Axes>"
            ]
          },
          "metadata": {
            "needs_background": "light"
          }
        }
      ]
    },
    {
      "cell_type": "markdown",
      "metadata": {
        "id": "tacsN7WsffIx"
      },
      "source": [
        "![Color.png](data:image/png;base64,iVBORw0KGgoAAAANSUhEUgAABLAAAAAUCAYAAACd48QkAAAMPmlDQ1BQaG90b3Nob3AgSUNDIHByb2ZpbGUAAHjarVd3VJN3F37ekYRACCMRAUHCRhAFFGQIsocgIBtchCRAIITwJkHFba2taB2oOHBUtCpqtXWAUgei1lncq46iFie1qMWtfH8kYGu/f75zvt85eXPP83vuc597z3tycgGTZLFKpSBNgRKlhkmJCRdlZeeIOHdBgA+ADR+xRK0KS05OAIDu73+el1dAAMBFT7FKpcD/dsykMrUEIJIB5EnVkhKA2A3QfhIVowFY7QAcx2tUGoBtCkDIZGXnAGwnAMICXewPQJinixMACJm0lAiAnQsY8MRipgDgKwCIyiUFGoA/D4CXUipXAvz9AEIkhWIpwH8PoH9JSakUMHED4Jb3N52Cf2jm9WiKxQU9sa4XAIBBpFytUogn4v99ShTa7hqOAHiFTGwKACFA7C4ujU8BwAOIE8q8xCQA5gBxSS4F9PH9Qm1sup7/WqKOyAFgAZA8qTgyHoANQDooFYkJejwkXx4dB8AUINPkmrg0XS4pZUpT9PrkBJk6KrU7FjOAnlOpLU4P02uuKZTFdWs2VhSmZep8kufK5RmJAPgAeVNdnBqv5zyuKIxI7OYw2pR0AE4AhXwmOkXHoZxK1N19UYGF8rhEfZygKUyL1eVSYyXiqFQAlgBVJFNnJXT7lMoio3R9UTNlynS9f6pKpQlP0fM3qBTJej61X6aISQHgAFAt6vLU7twODZOmnz8NlSY5TeeNFhaJhyfrPNDuSEAEIiGCFiLkoRRFkLe0N7RDpL+JhhgMCiCDpx7pzsiEGAyUECMVFfgDSsig7skLhxgMZCiHEh96UN3TE/kQg0E5ZFCjGPfBoATxUEAGLRjIoOyploHfwUD+r+oSlEKBUjCQ/xsTmXRj7Ch2JDuWHc3uR1vTIXQQnUCH0KF0CO1D+9MB3b4+8Vn3WedZd1mXWa2s6+PkM5nPnIswAq3Q6qciQ97fu6NdaB/alw6ng+kQOgAi2oK2hic9mPanw+hhdBDtSwf8w6u2p+NPs9Rrcb24JLc3N5Tr9rkDvjvft0dFBuU/ZqHzldczrYiem8/7iPjb/KQoRfznTOprahd1nDpMnaT2Uw0QUYeovdQZ6gDV8Ld343cwKOiplgIZlCiGAvJ/1RPrazKQQe211euR13v9HTSyCRoAiChVTWTkBYUaUZhKpZCJ4pSSAf1FPl7e/kBWdo5I99PywgIEAMLi1CesrAkIqASIgk+Y2BHYdx8QvPyEOT4HeAuBA+ckWqZch9EAwIIhTCCEFfrCEW7whA/8EIRQRGE4kpCGbIyFBIUoAYPxmIwZmI25WIilWIm1WI/N+B470YD9OIyfcRrncBk30Io2PEEHXuIdQRAcwpgQEFaEHeFMeBA+hD8RQkQRCUQKkU3kEgWEktASk4kviLlEFbGSWEfUET8S+4jDxEniPHGduEM8Ip4Tb0mK5JFC0pZ0IQeS/mQYGU+mkWPIArKMrCBnkfPJ5WQtuY2sJw+Tp8nLZCv5hOykQBlRFpQ95Un5UxFUEpVD5VMMNZWqpKqpWmo71Ugdpy5SrVQ79YZm0wJaRHvSQXQsnU5L6DJ6Kj2PXklvpuvpo/RF+g7dQX9kGbNsWB6sQFYcK4tVwBrPms2qZm1k7WEdY11mtbFestlsC7Yrewg7lp3NLmJPYs9jr2bvYDexz7PvsTs5HI4Vx4MTzEniiDkazmzOCs42ziHOBU4b57WBkYGdgY9BtEGOgdJgpkG1wRaDgwYXDB4YvOOacp25gdwkrpQ7kbuAu4HbyD3LbeO+MzQzdDUMNkwzLDKcYbjccLvhMcObhi+MjIwcjAKMRhrJjaYbLTf6weiE0R2jNzxznjsvgjeap+XN523iNfGu814YGxu7GIca5xhrjOcb1xkfMb5t/Jov4A/gx/Gl/Gn8Gn49/wL/qQnXxNkkzGSsSYVJtckuk7Mm7aZcUxfTCFOx6VTTGtN9pldNO80EZt5mSWYlZvPMtpidNHtozjF3MY8yl5rPMl9vfsT8noASOAoiBBLBF4INgmOCNiFb6CqMExYJ5wq/F7YIO3qZ9xrcK6PXhF41vQ70arWgLFws4iwUFgssdlpcsXjb27Z3WG9Z7zm9t/e+0PuVZR/LUEuZZaXlDsvLlm+tRFZRVsVWi6warG5Z09bu1iOtx1uvsT5m3d5H2Ceoj6RPZZ+dfX61IW3cbVJsJtmstzlj02nb1zbGVmW7wvaIbXtfi76hfYv6Lul7sO8jO4FdiJ3cbondIbvHol6iMJFCtFx0VNRhb2Mfa6+1X2ffYv/OwdUh3WGmww6HW46Gjv6O+Y5LHJsdO5zsnEY4TXba6vSrM9fZ37nQeZnzcedXLq4umS5fuTS4PHS1dI1zrXDd6nrTzdhtmFuZW63bpX7sfv79ivut7nfOnXT3dS90r3E/60F6+HnIPVZ7nO/P6h/QX9m/tv9VT55nmGe551bPOwMsBiQMmDmgYcDTgU4DcwYuGnh84EcvXy+F1wavG97m3sO9Z3o3ej/3cfeR+NT4XBpkPCh60LRBewc9G+wxWDZ4zeBrvgLfEb5f+Tb7fvAb4sf4bfd7NMRpSO6QVUOu+gv9k/3n+Z8IYAWEB0wL2B/wJtAvUBO4M/DPIM+g4qAtQQ+Hug6VDd0w9F6wQ7A4eF1wa4goJDfk25DWYfbDxMNqh90NdQyVhm4MfRDWL6wobFvY03CvcCZ8T/iriMCIKRFNkVRkTGRlZEuUeVR61Mqo29EO0QXRW6M7YnxjJsU0xbJi42MXxV6Ns42TxNXFdQwfMnzK8KPxvPjU+JXxdxPcE5iExhHkiOEjFo+4meicqExsSEJSXNLipFvJrsllyT+NZI9MHlkz8n6Kd8rklOOpgtRxqVtSX6aFpy1Iu5Hulq5Nb84wyRidUZfxKjMysyqzNWtg1pSs09nW2fLsvTmcnIycjTmdo6JGLR3VNtp39OzRV8a4jpkw5uRY67GKsQfGmYwTj9uVy8rNzN2S+16cJK4Vd+bF5a3K65BESJZJnkhDpUukj2TBsirZg/zg/Kr8hwXBBYsLHhUOK6wubJdHyFfKnxXFFq0telWcVLypuEuRqdhRYlCSW7JPaa4sVh4t7Vs6ofS8ykM1W9VaFli2tKyDiWc2qgn1GPVejVCj0pzRumm/1N4pDymvKX89PmP8rglmE5QTzkx0nzhn4oOK6IrvJtGTJJOaJ9tPnjH5zpSwKeumElPzpjZPc5w2a1rb9Jjpm2cYziie8ctMr5lVM//6IvOLxlm2s6bPuvdlzJdbZ/NnM7OvfhX01dqv6a/lX7fMGTRnxZyPldLKU3O95lbPfT9PMu/UN97fLP+ma37+/JYFfgvWLGQvVC68smjYos1VZlUVVfcWj1hcv0S0pHLJX0vHLT1ZPbh67TLDZdplrcsTlu9d4bRi4Yr3KwtXXq4Jr9mxymbVnFWvVktXX1gTumb7Wtu1c9e+/Vb+7bV1Mevqa11qq9ez15evv78hY8Px7/y/q9tovXHuxg+blJtaN6dsPlo3pK5ui82WBVvJrdqtj7aN3nbu+8jv92733L5uh8WOuT/gB+0Pj3/M/fHKzvidzbv8d23f7bx71R7Bnsp6on5ifUdDYUPr3uy95/cN39fcGNS456cBP23ab7+/5kCvAwsOGh6cdbDrUMWhziZVU/vhgsP3msc13ziSdeTS0ZFHW47FHzvxc/TPR46HHT90IvjE/pOBJ/ed8j/VcNrvdP0Z3zN7fvH9ZU+LX0v92SFn954LONd4fuj5gxeGXTh8MfLiz5fiLp2+nHj5/JX0K9eujr7aek167eF1xfVnv5b/+u7G9Jusm5W3TG9V37a5Xftbv992tPq1HrgTeefM3dS7N+5J7j35Xf37+7ZZ943vVz+we1D30Ofh/kfRj849HvW47Ynqybv22X+Y/bHqqdvT3X+G/nmmI6uj7RnzrOv5vBdWLzb9Nfiv5s7kztsvS16+e1X52ur15jf+b46/zXz74N3495z3yz/0+9D4Mf7jza6Sri6VmBEDACgAZH4+8HwTYJwNCM4BhqN0uxkAgNDtk4DuP8h/j3X7GwDAD9gUCqRPBxKagDVNgPN0gNcEJANICwU5aFDPR3/U+YN8dFo8BmC97up6YQtwGoEPTFfXu9VdXR82ANR1oKlMtxMCuh30W3cAODvUSPX5bvYfNMxwBrIZxRkAAAAgY0hSTQAAbXUAAHOgAAD83QAAg2QAAHDoAADsaAAAMD4AABCQ5OyZ6gAABglJREFUeNrsnMFxG0EMBHEJKAsHoOwVhfS3s1AAPL9cpbLvcb4FZuao5lsraUEQg+4iudXb472qXqvqs/48tr2uPQ7ObUc/duL3byd//5nHlnpuuA5bU/1O3+nk83/5f7hah/1iDRvvsy30w9bUS5druNA3f5+NqYN4Jlzupb1vJiTM1Mtnv2sdQjPiaq4f/Z+XX4sLvWOv4d7XE511uJxxe/BsHDx3WIfSz5KunI2YjY11iMhZdVb+Tx8OzkZ5Lw3vjRE5u4e8DtS9pJ4lwxlxNScS9u6EfNn2l6r62Ort8bOqfkgh7dkFVkJ4WIL06mJds/dBYM3AlnKxbq8DAssDJ4XA6ljK4xbrQmB1zFQElgC2EFjjgGGBztScRWBpeunJBNZS/RBYa689BNbIa6pPYFVV/UJgWc8hsNaABYFlhS3lYt1eBwSWB04KgdWxlLszAoE1M1MRWALYQmCNA4YFOlNzFoGl6SUElm82TvdSwCxpzdnHTQRWyEw9vgsCy3sOgbUGLAgsK2wpF+v2OiCwPHBSCKyOpdydEQismZmKwBLAFgJrHDBSoDMiZxFYml5CYPlm43QvIbA8e3fITD2+CwLLew6BtQYsCCwrbCkX6/Y6ILA8cFIIrI6l3J0RCKyZmYrAEsAWAmscMFKgMyJnEViaXkJgZc/G+gYCi48QSvIFgZVwDoG1BiwILCtsqUMAgXWzhXI4SBFYvoxAYM3MVASWB7YQWEGzEYHVUkMEVu9rG4Fl7CUElmfvDpmpx3dBYHnPIbDWgAWBZYUtdQggsG62UHaeRWBFZQQCa2amIrAEsIXAGgeMFOiMyFkElqaXEFi+2TjdS3f5Evezf5OPEC49RwisJw8PS5AisNagAIGlqYMDMkJCoGsmILBEdUBgrYsWBNbyczv5PCKw1mcJAisnZxFYpl5CYPlm43QvIbBi9u6EfEFgJZxDYK0BCwLLClvKxbq9DrwDywMnhcDqWMrdGYHAmpmpCCwBbCGwxgHDAp2pOYvA0vQSAss3G6d7iS9x9+zdITP1+C4ILO85BNYasCCwrLClXKzb64DA8sBJIbA6lnJ3RiCwZmYqAksAWwisccBIgc6InEVgaXoJgeWbjdO9hMCK2bsT8gWBlXAOgbUGLAgsK2wpF+v2OiCwPHBSCKyOpdydEQismZmKwBLAFgJrHDBSoDMiZxFYml5CYPlm43QvIbA8e3fITD2+CwLLew6BtQYsCCwrbCkX6/Y6ILA8cFIIrI6l3J0RCKyZmYrAEsAWAmscMFKgMyJnEViaXkJg+WbjdC8hsGL27oR8QWAlnENgrQELAssKW8rFur0OCCwPnBQCq2Mpd2cEAmtmpiKwBLCFwBoHjBTojMhZBJamlxBYvtk43Ut3EVhn/x7vwFp6jhBYCecQWGvAgsCywpY6BBBYN1soO88isKIyAoE1M1MRWALYQmCNA0YKdEbkLAJL00sILN9snO6lZ3oH1n49JxBYX++CwPKeQ2CtAQsCywpbysW6vQ4ILA+cFAKrYyl3ZwQCa2amIrAEsIXAGgeMFOiMyFkElqaXEFi+2TjdS7wDK2bvTsgXBFbCOQTWGrAgsKywpQ4BBNbNFsrhIEVg+TICgTUzUxFYAthCYI0DRgp0RuQsAkvTSwgs32yc7iW+A8uzd4fM1OO7ILC85xBYa8CCwLLClnKxbq8DAssDJ4XA6ljK3RmBwJqZqQgsAWwhsMYBIwU6I3IWgaXpJQSWbzZO9xICy7N3h8zU47sgsLznEFhrwILAssKWcrFurwMCywMnhcDqWMrdGYHAmpmpCCwBbCGwxgEjBTojchaBpeklBJZvNk73knqWTGZEFR8hXHyOEFhPHh6WIEVgrUEBAktXBwSWB04KgdWxlLszAoE1M1MRWALYQmCNA4YFOlNzFoGl6SUElm82TvfSMwmsO32Je77Aeq+q16r6lEEa78DKhhP5Yl2z90FgzcCWcrFurwMCywMnhcDqWMrdGYHAmpmpCCwBbCGwxgHDAp2pOYvA0vQSAss3G6d7iY8QevbukJn6711equrjNwAAAP//AwDoG6XGVU1ATgAAAABJRU5ErkJggg==)"
      ]
    },
    {
      "cell_type": "markdown",
      "metadata": {
        "id": "5keG1WtHfhVT"
      },
      "source": [
        "### **Can you see any relationship between the Customer_Age per Country?**"
      ]
    },
    {
      "cell_type": "code",
      "metadata": {
        "colab": {
          "base_uri": "https://localhost:8080/",
          "height": 612
        },
        "id": "ZX2mLqsWfTKy",
        "outputId": "e4317998-3b3d-4e96-85c8-02bf232d8fa0"
      },
      "source": [
        "sales[['Customer_Age','Country']].boxplot(by='Country',figsize=(8,8))"
      ],
      "execution_count": 54,
      "outputs": [
        {
          "output_type": "stream",
          "name": "stderr",
          "text": [
            "/usr/local/lib/python3.7/dist-packages/numpy/core/_asarray.py:83: VisibleDeprecationWarning: Creating an ndarray from ragged nested sequences (which is a list-or-tuple of lists-or-tuples-or ndarrays with different lengths or shapes) is deprecated. If you meant to do this, you must specify 'dtype=object' when creating the ndarray\n",
            "  return array(a, dtype, copy=False, order=order)\n"
          ]
        },
        {
          "output_type": "execute_result",
          "data": {
            "text/plain": [
              "<matplotlib.axes._subplots.AxesSubplot at 0x7f992a662e50>"
            ]
          },
          "metadata": {},
          "execution_count": 54
        },
        {
          "output_type": "display_data",
          "data": {
            "image/png": "[encoded data removed]",
            "text/plain": [
              "<Figure size 576x576 with 1 Axes>"
            ]
          },
          "metadata": {
            "needs_background": "light"
          }
        }
      ]
    },
    {
      "cell_type": "markdown",
      "metadata": {
        "id": "Wd1a-xs0f7z6"
      },
      "source": [
        "![Color.png](data:image/png;base64,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)"
      ]
    },
    {
      "cell_type": "markdown",
      "metadata": {
        "id": "3HpAXb6_f-Pg"
      },
      "source": [
        "### **Add and calculate a new Calculated_Date column**"
      ]
    },
    {
      "cell_type": "markdown",
      "metadata": {
        "id": "J9BkRroXhGlH"
      },
      "source": [
        "Use Day, Month, Year to create a Date column (YYYY-MM-DD)."
      ]
    },
    {
      "cell_type": "code",
      "metadata": {
        "colab": {
          "base_uri": "https://localhost:8080/"
        },
        "id": "Nn6OYdwVfxVX",
        "outputId": "19419cb5-e691-4bab-9217-1fc9b75f81fd"
      },
      "source": [
        "sales['Calculated_Date'] = sales[['Year','Month','Day']].apply(lambda x : '{}-{}-{}'.format(x[0],x[1],x[2]),axis=1)\n",
        "sales['Calculated_Date'].head()"
      ],
      "execution_count": 63,
      "outputs": [
        {
          "output_type": "execute_result",
          "data": {
            "text/plain": [
              "0    2013-November-26\n",
              "1    2015-November-26\n",
              "2       2014-March-23\n",
              "3       2016-March-23\n",
              "4         2014-May-15\n",
              "Name: Calculated_Date, dtype: object"
            ]
          },
          "metadata": {},
          "execution_count": 63
        }
      ]
    },
    {
      "cell_type": "markdown",
      "metadata": {
        "id": "K-4vGAyRiJwc"
      },
      "source": [
        "![Color.png](data:image/png;base64,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)"
      ]
    },
    {
      "cell_type": "markdown",
      "metadata": {
        "id": "8feVOJumiNh8"
      },
      "source": [
        "### **Parse your Calculated_Date column into a datetime object**"
      ]
    },
    {
      "cell_type": "code",
      "metadata": {
        "colab": {
          "base_uri": "https://localhost:8080/"
        },
        "id": "8hse66W9hari",
        "outputId": "e66d977a-36b3-485f-f457-a2e6b95c8741"
      },
      "source": [
        "sales['Calculated_Date'] = pd.to_datetime(sales['Calculated_Date'])\n",
        "sales['Calculated_Date'].head()"
      ],
      "execution_count": 64,
      "outputs": [
        {
          "output_type": "execute_result",
          "data": {
            "text/plain": [
              "0   2013-11-26\n",
              "1   2015-11-26\n",
              "2   2014-03-23\n",
              "3   2016-03-23\n",
              "4   2014-05-15\n",
              "Name: Calculated_Date, dtype: datetime64[ns]"
            ]
          },
          "metadata": {},
          "execution_count": 64
        }
      ]
    },
    {
      "cell_type": "markdown",
      "metadata": {
        "id": "zbh1Q8sqinuI"
      },
      "source": [
        "![Color.png](data:image/png;base64,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)"
      ]
    },
    {
      "cell_type": "markdown",
      "metadata": {
        "id": "2aaj0tmIip-5"
      },
      "source": [
        "### **How did sales evolve through the years?**"
      ]
    },
    {
      "cell_type": "code",
      "metadata": {
        "colab": {
          "base_uri": "https://localhost:8080/"
        },
        "id": "n6IZjTpliegf",
        "outputId": "a12d4cd4-2900-4386-8a04-e7c3f91a9863"
      },
      "source": [
        "sales['Calculated_Date'].value_counts().head(10)"
      ],
      "execution_count": 67,
      "outputs": [
        {
          "output_type": "execute_result",
          "data": {
            "text/plain": [
              "2014-03-01    288\n",
              "2016-03-01    288\n",
              "2015-12-07    241\n",
              "2013-12-07    241\n",
              "2016-06-14    236\n",
              "2014-06-14    236\n",
              "2016-02-20    221\n",
              "2014-02-20    221\n",
              "2016-04-03    218\n",
              "2014-04-03    218\n",
              "Name: Calculated_Date, dtype: int64"
            ]
          },
          "metadata": {},
          "execution_count": 67
        }
      ]
    },
    {
      "cell_type": "code",
      "metadata": {
        "colab": {
          "base_uri": "https://localhost:8080/",
          "height": 489
        },
        "id": "mhV-uk-ji0Gt",
        "outputId": "19cfc0de-c0eb-4f77-cc6d-dd1022761294"
      },
      "source": [
        "sales['Calculated_Date'].value_counts().head(20).plot(kind='bar', figsize=(6,6))"
      ],
      "execution_count": 71,
      "outputs": [
        {
          "output_type": "execute_result",
          "data": {
            "text/plain": [
              "<matplotlib.axes._subplots.AxesSubplot at 0x7f9934547d90>"
            ]
          },
          "metadata": {},
          "execution_count": 71
        },
        {
          "output_type": "display_data",
          "data": {
            "image/png": "[encoded data removed]",
            "text/plain": [
              "<Figure size 432x432 with 1 Axes>"
            ]
          },
          "metadata": {
            "needs_background": "light"
          }
        }
      ]
    },
    {
      "cell_type": "code",
      "metadata": {
        "colab": {
          "base_uri": "https://localhost:8080/",
          "height": 373
        },
        "id": "M9PB2JXtjvsh",
        "outputId": "ed0cdc6d-1622-4516-d1d2-1c9b5c3c255c"
      },
      "source": [
        "# Sales Evolve using Line Plot\n",
        "\n",
        "sales['Calculated_Date'].value_counts().plot(kind='line', figsize= (14,6))"
      ],
      "execution_count": 74,
      "outputs": [
        {
          "output_type": "execute_result",
          "data": {
            "text/plain": [
              "<matplotlib.axes._subplots.AxesSubplot at 0x7f9934097810>"
            ]
          },
          "metadata": {},
          "execution_count": 74
        },
        {
          "output_type": "display_data",
          "data": {
            "image/png": "[encoded data removed]",
            "text/plain": [
              "<Figure size 1008x432 with 1 Axes>"
            ]
          },
          "metadata": {
            "needs_background": "light"
          }
        }
      ]
    },
    {
      "cell_type": "markdown",
      "metadata": {
        "id": "NmFMNhlLjod8"
      },
      "source": [
        "![Color.png](data:image/png;base64,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)"
      ]
    },
    {
      "cell_type": "markdown",
      "metadata": {
        "id": "6vx2GgppjrcC"
      },
      "source": [
        "### **Increase 50 U$S revenue to every sale**"
      ]
    },
    {
      "cell_type": "code",
      "metadata": {
        "id": "OrLDRTK_jC9Z"
      },
      "source": [
        "sales['Revenue'] += 50"
      ],
      "execution_count": 75,
      "outputs": []
    },
    {
      "cell_type": "code",
      "metadata": {
        "colab": {
          "base_uri": "https://localhost:8080/"
        },
        "id": "jp6Q7ljWkc0a",
        "outputId": "f52fe6dd-932a-443c-e582-312074691a66"
      },
      "source": [
        "sales['Revenue'].head()"
      ],
      "execution_count": 77,
      "outputs": [
        {
          "output_type": "execute_result",
          "data": {
            "text/plain": [
              "0    1000\n",
              "1    1000\n",
              "2    2451\n",
              "3    2138\n",
              "4     468\n",
              "Name: Revenue, dtype: int64"
            ]
          },
          "metadata": {},
          "execution_count": 77
        }
      ]
    },
    {
      "cell_type": "markdown",
      "metadata": {
        "id": "_r_Ytugxkk0k"
      },
      "source": [
        "![Color.png](data:image/png;base64,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)"
      ]
    },
    {
      "cell_type": "markdown",
      "metadata": {
        "id": "LD-J3ilwknqp"
      },
      "source": [
        "### **How many orders were made in Canada or France?**"
      ]
    },
    {
      "cell_type": "code",
      "metadata": {
        "colab": {
          "base_uri": "https://localhost:8080/"
        },
        "id": "PLKyjYwekeZT",
        "outputId": "75222c45-73b7-4168-a9e6-121d8dc26b57"
      },
      "source": [
        "sales.loc[(sales['Country']=='Canada') | (sales['Country']=='France')].shape[0]"
      ],
      "execution_count": 80,
      "outputs": [
        {
          "output_type": "execute_result",
          "data": {
            "text/plain": [
              "25176"
            ]
          },
          "metadata": {},
          "execution_count": 80
        }
      ]
    },
    {
      "cell_type": "markdown",
      "metadata": {
        "id": "3nYCRqtflLSy"
      },
      "source": [
        "![Color.png](data:image/png;base64,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)"
      ]
    },
    {
      "cell_type": "markdown",
      "metadata": {
        "id": "75p3vlpAlPqn"
      },
      "source": [
        "### **How many Bike Racks orders were made from Canada?**"
      ]
    },
    {
      "cell_type": "code",
      "metadata": {
        "colab": {
          "base_uri": "https://localhost:8080/"
        },
        "id": "lpxaz_hAlBMN",
        "outputId": "5c2ac33d-7f1d-43c5-8dc0-2b53adc3dc52"
      },
      "source": [
        "sales.loc[(sales['Country'] =='Canada') & (sales['Sub_Category'] == 'Bike Racks')].shape[0]"
      ],
      "execution_count": 86,
      "outputs": [
        {
          "output_type": "execute_result",
          "data": {
            "text/plain": [
              "104"
            ]
          },
          "metadata": {},
          "execution_count": 86
        }
      ]
    },
    {
      "cell_type": "markdown",
      "metadata": {
        "id": "It5sOQrFmNx1"
      },
      "source": [
        "![Color.png](data:image/png;base64,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)"
      ]
    },
    {
      "cell_type": "markdown",
      "metadata": {
        "id": "z-t183f7mP_s"
      },
      "source": [
        "### **How many orders were made in each region (state) of France?**"
      ]
    },
    {
      "cell_type": "code",
      "metadata": {
        "colab": {
          "base_uri": "https://localhost:8080/"
        },
        "id": "FlYwvEIDlqIK",
        "outputId": "219ae3ed-9e8f-4c46-ab9a-e203ba9bfc70"
      },
      "source": [
        "france_states = sales.loc[sales['Country'] == 'France', 'State'].value_counts()\n",
        "\n",
        "france_states"
      ],
      "execution_count": 87,
      "outputs": [
        {
          "output_type": "execute_result",
          "data": {
            "text/plain": [
              "Seine (Paris)        2328\n",
              "Seine Saint Denis    1684\n",
              "Nord                 1670\n",
              "Hauts de Seine       1084\n",
              "Essonne               994\n",
              "Yveline               954\n",
              "Seine et Marne        394\n",
              "Moselle               386\n",
              "Loiret                382\n",
              "Val d'Oise            264\n",
              "Garonne (Haute)       208\n",
              "Val de Marne          158\n",
              "Charente-Maritime     148\n",
              "Somme                 134\n",
              "Loir et Cher          120\n",
              "Pas de Calais          90\n",
              "Name: State, dtype: int64"
            ]
          },
          "metadata": {},
          "execution_count": 87
        }
      ]
    },
    {
      "cell_type": "code",
      "metadata": {
        "colab": {
          "base_uri": "https://localhost:8080/",
          "height": 367
        },
        "id": "8YqJOkyOny3p",
        "outputId": "fbe1863a-c5a1-4bfe-d744-b902974b2523"
      },
      "source": [
        "france_states.plot(kind='bar', figsize=(4,4))"
      ],
      "execution_count": 94,
      "outputs": [
        {
          "output_type": "execute_result",
          "data": {
            "text/plain": [
              "<matplotlib.axes._subplots.AxesSubplot at 0x7f9933e3de90>"
            ]
          },
          "metadata": {},
          "execution_count": 94
        },
        {
          "output_type": "display_data",
          "data": {
            "image/png": "[encoded data removed]",
            "text/plain": [
              "<Figure size 288x288 with 1 Axes>"
            ]
          },
          "metadata": {
            "needs_background": "light"
          }
        }
      ]
    },
    {
      "cell_type": "markdown",
      "metadata": {
        "id": "54Ccs6pem0ex"
      },
      "source": [
        "### **How many orders were made in each region (state) of USA**"
      ]
    },
    {
      "cell_type": "code",
      "metadata": {
        "colab": {
          "base_uri": "https://localhost:8080/"
        },
        "id": "at0ySTMEmtUa",
        "outputId": "11d5ea86-3ec0-4d60-8024-3e78219539c8"
      },
      "source": [
        "Aus_states = sales.loc[sales['Country'] == 'Australia','State'].value_counts()\n",
        "\n",
        "Aus_states"
      ],
      "execution_count": 91,
      "outputs": [
        {
          "output_type": "execute_result",
          "data": {
            "text/plain": [
              "New South Wales    10412\n",
              "Victoria            6016\n",
              "Queensland          5220\n",
              "South Australia     1564\n",
              "Tasmania             724\n",
              "Name: State, dtype: int64"
            ]
          },
          "metadata": {},
          "execution_count": 91
        }
      ]
    },
    {
      "cell_type": "code",
      "metadata": {
        "colab": {
          "base_uri": "https://localhost:8080/",
          "height": 359
        },
        "id": "J6Ffbx4YnMMR",
        "outputId": "056397f0-f10d-49de-a093-c18d1248702f"
      },
      "source": [
        "# Region using Bar Plot\n",
        "\n",
        "Aus_states.plot(kind='bar', figsize=(4,4))"
      ],
      "execution_count": 93,
      "outputs": [
        {
          "output_type": "execute_result",
          "data": {
            "text/plain": [
              "<matplotlib.axes._subplots.AxesSubplot at 0x7f9933eb8b10>"
            ]
          },
          "metadata": {},
          "execution_count": 93
        },
        {
          "output_type": "display_data",
          "data": {
            "image/png": "[encoded data removed]",
            "text/plain": [
              "<Figure size 288x288 with 1 Axes>"
            ]
          },
          "metadata": {
            "needs_background": "light"
          }
        }
      ]
    },
    {
      "cell_type": "markdown",
      "metadata": {
        "id": "g_MvT0Q1n6Bj"
      },
      "source": [
        "![Color.png](data:image/png;base64,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)"
      ]
    },
    {
      "cell_type": "markdown",
      "metadata": {
        "id": "Z0I_6FACn9xi"
      },
      "source": [
        "### **How many sales were made per category?**"
      ]
    },
    {
      "cell_type": "code",
      "metadata": {
        "colab": {
          "base_uri": "https://localhost:8080/"
        },
        "id": "Yc7BtiRqntfR",
        "outputId": "78689c0c-290f-45ad-a6ad-73b0a57f7f65"
      },
      "source": [
        "sales['Product_Category'].value_counts()"
      ],
      "execution_count": 97,
      "outputs": [
        {
          "output_type": "execute_result",
          "data": {
            "text/plain": [
              "Accessories    70120\n",
              "Bikes          25982\n",
              "Clothing       16934\n",
              "Name: Product_Category, dtype: int64"
            ]
          },
          "metadata": {},
          "execution_count": 97
        }
      ]
    },
    {
      "cell_type": "code",
      "metadata": {
        "colab": {
          "base_uri": "https://localhost:8080/",
          "height": 375
        },
        "id": "rU_sWvFAoQvP",
        "outputId": "58d6baf6-c3c4-4bb3-e32d-96bc95f620f9"
      },
      "source": [
        "# Sales per category using Pie Plot\n",
        "\n",
        "sales['Product_Category'].value_counts().plot(kind='pie',figsize=(6,6))"
      ],
      "execution_count": 99,
      "outputs": [
        {
          "output_type": "execute_result",
          "data": {
            "text/plain": [
              "<matplotlib.axes._subplots.AxesSubplot at 0x7f9933d67690>"
            ]
          },
          "metadata": {},
          "execution_count": 99
        },
        {
          "output_type": "display_data",
          "data": {
            "image/png": "[encoded data removed]",
            "text/plain": [
              "<Figure size 432x432 with 1 Axes>"
            ]
          },
          "metadata": {}
        }
      ]
    },
    {
      "cell_type": "markdown",
      "metadata": {
        "id": "nX00hSUCo0bO"
      },
      "source": [
        "![Color.png](data:image/png;base64,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)"
      ]
    },
    {
      "cell_type": "markdown",
      "metadata": {
        "id": "hdoQRHdAo3jC"
      },
      "source": [
        "### **How many orders were made per accessory sub-categories?**"
      ]
    },
    {
      "cell_type": "code",
      "metadata": {
        "colab": {
          "base_uri": "https://localhost:8080/"
        },
        "id": "Qwmse5fxotzn",
        "outputId": "779d4b74-55cb-4f82-f0cd-69046b355648"
      },
      "source": [
        "sales['Sub_Category'].value_counts()"
      ],
      "execution_count": 101,
      "outputs": [
        {
          "output_type": "execute_result",
          "data": {
            "text/plain": [
              "Tires and Tubes      33870\n",
              "Bottles and Cages    15876\n",
              "Road Bikes           13430\n",
              "Helmets              12158\n",
              "Mountain Bikes        8854\n",
              "Jerseys               6010\n",
              "Caps                  4358\n",
              "Fenders               4032\n",
              "Touring Bikes         3698\n",
              "Gloves                2686\n",
              "Cleaners              1802\n",
              "Shorts                1794\n",
              "Hydration Packs       1334\n",
              "Socks                 1122\n",
              "Vests                  964\n",
              "Bike Racks             592\n",
              "Bike Stands            456\n",
              "Name: Sub_Category, dtype: int64"
            ]
          },
          "metadata": {},
          "execution_count": 101
        }
      ]
    },
    {
      "cell_type": "code",
      "metadata": {
        "colab": {
          "base_uri": "https://localhost:8080/",
          "height": 473
        },
        "id": "Qzfc1Ljio-mB",
        "outputId": "7cce79b1-a57c-4d04-9c3d-32dd97844a30"
      },
      "source": [
        "# Sub-category using Bar Plot\n",
        "\n",
        "sales['Sub_Category'].value_counts().plot(kind='bar', figsize=(6,6))"
      ],
      "execution_count": 105,
      "outputs": [
        {
          "output_type": "execute_result",
          "data": {
            "text/plain": [
              "<matplotlib.axes._subplots.AxesSubplot at 0x7f9933c80f10>"
            ]
          },
          "metadata": {},
          "execution_count": 105
        },
        {
          "output_type": "display_data",
          "data": {
            "image/png": "[encoded data removed]",
            "text/plain": [
              "<Figure size 432x432 with 1 Axes>"
            ]
          },
          "metadata": {
            "needs_background": "light"
          }
        }
      ]
    },
    {
      "cell_type": "code",
      "metadata": {
        "colab": {
          "base_uri": "https://localhost:8080/"
        },
        "id": "fJI-JpmipOB0",
        "outputId": "30d4faf9-0fd0-4ebf-d7ad-1fefe2941a2a"
      },
      "source": [
        "accessories = sales.loc[sales['Product_Category'] == 'Accessories', 'Sub_Category'].value_counts()\n",
        "\n",
        "accessories"
      ],
      "execution_count": 106,
      "outputs": [
        {
          "output_type": "execute_result",
          "data": {
            "text/plain": [
              "Tires and Tubes      33870\n",
              "Bottles and Cages    15876\n",
              "Helmets              12158\n",
              "Fenders               4032\n",
              "Cleaners              1802\n",
              "Hydration Packs       1334\n",
              "Bike Racks             592\n",
              "Bike Stands            456\n",
              "Name: Sub_Category, dtype: int64"
            ]
          },
          "metadata": {},
          "execution_count": 106
        }
      ]
    },
    {
      "cell_type": "markdown",
      "metadata": {
        "id": "c_dXfnHyqLPC"
      },
      "source": [
        "![Color.png](data:image/png;base64,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)"
      ]
    },
    {
      "cell_type": "markdown",
      "metadata": {
        "id": "s_OkGiIIqNTB"
      },
      "source": [
        "### **Which gender has the most amount of sales?**"
      ]
    },
    {
      "cell_type": "code",
      "metadata": {
        "colab": {
          "base_uri": "https://localhost:8080/"
        },
        "id": "3wzQrF3UpoTt",
        "outputId": "cb4e5e04-c96d-4737-ce0b-d9f604e9cf9e"
      },
      "source": [
        "sales['Customer_Gender'].value_counts()"
      ],
      "execution_count": 108,
      "outputs": [
        {
          "output_type": "execute_result",
          "data": {
            "text/plain": [
              "M    58312\n",
              "F    54724\n",
              "Name: Customer_Gender, dtype: int64"
            ]
          },
          "metadata": {},
          "execution_count": 108
        }
      ]
    },
    {
      "cell_type": "code",
      "metadata": {
        "colab": {
          "base_uri": "https://localhost:8080/",
          "height": 375
        },
        "id": "uJdq88xNqYJE",
        "outputId": "12175094-4e6d-44d3-eb00-dfe71ae879f3"
      },
      "source": [
        "sales['Customer_Gender'].value_counts().plot(kind='pie',figsize=(6,6))"
      ],
      "execution_count": 110,
      "outputs": [
        {
          "output_type": "execute_result",
          "data": {
            "text/plain": [
              "<matplotlib.axes._subplots.AxesSubplot at 0x7f9933bf1510>"
            ]
          },
          "metadata": {},
          "execution_count": 110
        },
        {
          "output_type": "display_data",
          "data": {
            "image/png": "[encoded data removed]",
            "text/plain": [
              "<Figure size 432x432 with 1 Axes>"
            ]
          },
          "metadata": {}
        }
      ]
    },
    {
      "cell_type": "markdown",
      "metadata": {
        "id": "2qFjeRSTqrIR"
      },
      "source": [
        "![Color.png](data:image/png;base64,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)"
      ]
    },
    {
      "cell_type": "markdown",
      "metadata": {
        "id": "8aSDOf0gquEa"
      },
      "source": [
        "### **How many sales with more than 500 in Revenue were made by men?**"
      ]
    },
    {
      "cell_type": "code",
      "metadata": {
        "colab": {
          "base_uri": "https://localhost:8080/"
        },
        "id": "02SRMFXuqtJ1",
        "outputId": "06fec7fe-1c2d-4de0-f97a-561d9fe2c33e"
      },
      "source": [
        "sales.loc[(sales['Customer_Gender'] == \"M\") & (sales['Revenue'] > 500)].value_counts().shape[0]"
      ],
      "execution_count": 117,
      "outputs": [
        {
          "output_type": "execute_result",
          "data": {
            "text/plain": [
              "23226"
            ]
          },
          "metadata": {},
          "execution_count": 117
        }
      ]
    },
    {
      "cell_type": "markdown",
      "metadata": {
        "id": "1AWJm0Bts1Sp"
      },
      "source": [
        "![Color.png](data:image/png;base64,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)"
      ]
    },
    {
      "cell_type": "markdown",
      "metadata": {
        "id": "B6WSIUfAs6Dc"
      },
      "source": [
        "### **Get the top-5 sales with the highest revenue**"
      ]
    },
    {
      "cell_type": "code",
      "metadata": {
        "colab": {
          "base_uri": "https://localhost:8080/",
          "height": 399
        },
        "id": "C73TKYo5qlXZ",
        "outputId": "f8fb95e8-faa7-4a83-a544-8c5f606ac468"
      },
      "source": [
        "sales.sort_values(['Revenue']).head(5)"
      ],
      "execution_count": 120,
      "outputs": [
        {
          "output_type": "execute_result",
          "data": {
            "text/html": [
              "<div>\n",
              "<style scoped>\n",
              "    .dataframe tbody tr th:only-of-type {\n",
              "        vertical-align: middle;\n",
              "    }\n",
              "\n",
              "    .dataframe tbody tr th {\n",
              "        vertical-align: top;\n",
              "    }\n",
              "\n",
              "    .dataframe thead th {\n",
              "        text-align: right;\n",
              "    }\n",
              "</style>\n",
              "<table border=\"1\" class=\"dataframe\">\n",
              "  <thead>\n",
              "    <tr style=\"text-align: right;\">\n",
              "      <th></th>\n",
              "      <th>Date</th>\n",
              "      <th>Day</th>\n",
              "      <th>Month</th>\n",
              "      <th>Year</th>\n",
              "      <th>Customer_Age</th>\n",
              "      <th>Age_Group</th>\n",
              "      <th>Customer_Gender</th>\n",
              "      <th>Country</th>\n",
              "      <th>State</th>\n",
              "      <th>Product_Category</th>\n",
              "      <th>Sub_Category</th>\n",
              "      <th>Product</th>\n",
              "      <th>Order_Quantity</th>\n",
              "      <th>Unit_Cost</th>\n",
              "      <th>Unit_Price</th>\n",
              "      <th>Profit</th>\n",
              "      <th>Cost</th>\n",
              "      <th>Revenue</th>\n",
              "      <th>Calculated_Date</th>\n",
              "    </tr>\n",
              "  </thead>\n",
              "  <tbody>\n",
              "    <tr>\n",
              "      <th>79623</th>\n",
              "      <td>2016-03-29</td>\n",
              "      <td>29</td>\n",
              "      <td>March</td>\n",
              "      <td>2016</td>\n",
              "      <td>24</td>\n",
              "      <td>Youth (&lt;25)</td>\n",
              "      <td>M</td>\n",
              "      <td>Canada</td>\n",
              "      <td>British Columbia</td>\n",
              "      <td>Accessories</td>\n",
              "      <td>Tires and Tubes</td>\n",
              "      <td>Patch Kit/8 Patches</td>\n",
              "      <td>1</td>\n",
              "      <td>1</td>\n",
              "      <td>2</td>\n",
              "      <td>1</td>\n",
              "      <td>1</td>\n",
              "      <td>52</td>\n",
              "      <td>2016-03-29</td>\n",
              "    </tr>\n",
              "    <tr>\n",
              "      <th>77830</th>\n",
              "      <td>2014-06-06</td>\n",
              "      <td>6</td>\n",
              "      <td>June</td>\n",
              "      <td>2014</td>\n",
              "      <td>19</td>\n",
              "      <td>Youth (&lt;25)</td>\n",
              "      <td>M</td>\n",
              "      <td>Australia</td>\n",
              "      <td>New South Wales</td>\n",
              "      <td>Accessories</td>\n",
              "      <td>Tires and Tubes</td>\n",
              "      <td>Patch Kit/8 Patches</td>\n",
              "      <td>1</td>\n",
              "      <td>1</td>\n",
              "      <td>2</td>\n",
              "      <td>1</td>\n",
              "      <td>1</td>\n",
              "      <td>52</td>\n",
              "      <td>2014-06-06</td>\n",
              "    </tr>\n",
              "    <tr>\n",
              "      <th>77801</th>\n",
              "      <td>2015-11-26</td>\n",
              "      <td>26</td>\n",
              "      <td>November</td>\n",
              "      <td>2015</td>\n",
              "      <td>18</td>\n",
              "      <td>Youth (&lt;25)</td>\n",
              "      <td>M</td>\n",
              "      <td>Australia</td>\n",
              "      <td>Victoria</td>\n",
              "      <td>Accessories</td>\n",
              "      <td>Tires and Tubes</td>\n",
              "      <td>Patch Kit/8 Patches</td>\n",
              "      <td>1</td>\n",
              "      <td>1</td>\n",
              "      <td>2</td>\n",
              "      <td>1</td>\n",
              "      <td>1</td>\n",
              "      <td>52</td>\n",
              "      <td>2015-11-26</td>\n",
              "    </tr>\n",
              "    <tr>\n",
              "      <th>95964</th>\n",
              "      <td>2016-04-17</td>\n",
              "      <td>17</td>\n",
              "      <td>April</td>\n",
              "      <td>2016</td>\n",
              "      <td>54</td>\n",
              "      <td>Adults (35-64)</td>\n",
              "      <td>F</td>\n",
              "      <td>Germany</td>\n",
              "      <td>Nordrhein-Westfalen</td>\n",
              "      <td>Accessories</td>\n",
              "      <td>Tires and Tubes</td>\n",
              "      <td>Patch Kit/8 Patches</td>\n",
              "      <td>1</td>\n",
              "      <td>1</td>\n",
              "      <td>2</td>\n",
              "      <td>1</td>\n",
              "      <td>1</td>\n",
              "      <td>52</td>\n",
              "      <td>2016-04-17</td>\n",
              "    </tr>\n",
              "    <tr>\n",
              "      <th>77757</th>\n",
              "      <td>2016-05-22</td>\n",
              "      <td>22</td>\n",
              "      <td>May</td>\n",
              "      <td>2016</td>\n",
              "      <td>59</td>\n",
              "      <td>Adults (35-64)</td>\n",
              "      <td>F</td>\n",
              "      <td>United States</td>\n",
              "      <td>California</td>\n",
              "      <td>Accessories</td>\n",
              "      <td>Tires and Tubes</td>\n",
              "      <td>Patch Kit/8 Patches</td>\n",
              "      <td>1</td>\n",
              "      <td>1</td>\n",
              "      <td>2</td>\n",
              "      <td>1</td>\n",
              "      <td>1</td>\n",
              "      <td>52</td>\n",
              "      <td>2016-05-22</td>\n",
              "    </tr>\n",
              "  </tbody>\n",
              "</table>\n",
              "</div>"
            ],
            "text/plain": [
              "            Date  Day     Month  Year  ...  Profit Cost Revenue Calculated_Date\n",
              "79623 2016-03-29   29     March  2016  ...       1    1      52      2016-03-29\n",
              "77830 2014-06-06    6      June  2014  ...       1    1      52      2014-06-06\n",
              "77801 2015-11-26   26  November  2015  ...       1    1      52      2015-11-26\n",
              "95964 2016-04-17   17     April  2016  ...       1    1      52      2016-04-17\n",
              "77757 2016-05-22   22       May  2016  ...       1    1      52      2016-05-22\n",
              "\n",
              "[5 rows x 19 columns]"
            ]
          },
          "metadata": {},
          "execution_count": 120
        }
      ]
    },
    {
      "cell_type": "markdown",
      "metadata": {
        "id": "JR7pNG2WtbFR"
      },
      "source": [
        "![Color.png](data:image/png;base64,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)"
      ]
    },
    {
      "cell_type": "markdown",
      "metadata": {
        "id": "wTPp08B2tf1v"
      },
      "source": [
        "### **Get the sale with the highest revenue**"
      ]
    },
    {
      "cell_type": "code",
      "metadata": {
        "colab": {
          "base_uri": "https://localhost:8080/",
          "height": 153
        },
        "id": "rIs8Yulks--D",
        "outputId": "dc38b9fc-1c0c-4fcd-f956-19c217227a35"
      },
      "source": [
        "cond = sales['Revenue'] == sales['Revenue'].max()\n",
        "sales.loc[cond]"
      ],
      "execution_count": 122,
      "outputs": [
        {
          "output_type": "execute_result",
          "data": {
            "text/html": [
              "<div>\n",
              "<style scoped>\n",
              "    .dataframe tbody tr th:only-of-type {\n",
              "        vertical-align: middle;\n",
              "    }\n",
              "\n",
              "    .dataframe tbody tr th {\n",
              "        vertical-align: top;\n",
              "    }\n",
              "\n",
              "    .dataframe thead th {\n",
              "        text-align: right;\n",
              "    }\n",
              "</style>\n",
              "<table border=\"1\" class=\"dataframe\">\n",
              "  <thead>\n",
              "    <tr style=\"text-align: right;\">\n",
              "      <th></th>\n",
              "      <th>Date</th>\n",
              "      <th>Day</th>\n",
              "      <th>Month</th>\n",
              "      <th>Year</th>\n",
              "      <th>Customer_Age</th>\n",
              "      <th>Age_Group</th>\n",
              "      <th>Customer_Gender</th>\n",
              "      <th>Country</th>\n",
              "      <th>State</th>\n",
              "      <th>Product_Category</th>\n",
              "      <th>Sub_Category</th>\n",
              "      <th>Product</th>\n",
              "      <th>Order_Quantity</th>\n",
              "      <th>Unit_Cost</th>\n",
              "      <th>Unit_Price</th>\n",
              "      <th>Profit</th>\n",
              "      <th>Cost</th>\n",
              "      <th>Revenue</th>\n",
              "      <th>Calculated_Date</th>\n",
              "    </tr>\n",
              "  </thead>\n",
              "  <tbody>\n",
              "    <tr>\n",
              "      <th>112073</th>\n",
              "      <td>2015-07-24</td>\n",
              "      <td>24</td>\n",
              "      <td>July</td>\n",
              "      <td>2015</td>\n",
              "      <td>52</td>\n",
              "      <td>Adults (35-64)</td>\n",
              "      <td>M</td>\n",
              "      <td>Australia</td>\n",
              "      <td>Queensland</td>\n",
              "      <td>Clothing</td>\n",
              "      <td>Vests</td>\n",
              "      <td>Touring-1000 Yellow, 50</td>\n",
              "      <td>29</td>\n",
              "      <td>1482</td>\n",
              "      <td>2384</td>\n",
              "      <td>15096</td>\n",
              "      <td>42978</td>\n",
              "      <td>58124</td>\n",
              "      <td>2015-07-24</td>\n",
              "    </tr>\n",
              "  </tbody>\n",
              "</table>\n",
              "</div>"
            ],
            "text/plain": [
              "             Date  Day Month  Year  ...  Profit   Cost Revenue Calculated_Date\n",
              "112073 2015-07-24   24  July  2015  ...   15096  42978   58124      2015-07-24\n",
              "\n",
              "[1 rows x 19 columns]"
            ]
          },
          "metadata": {},
          "execution_count": 122
        }
      ]
    },
    {
      "cell_type": "markdown",
      "metadata": {
        "id": "amezTcT4t_Wf"
      },
      "source": [
        "![Color.png](data:image/png;base64,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)"
      ]
    },
    {
      "cell_type": "markdown",
      "metadata": {
        "id": "44-porGSuCJb"
      },
      "source": [
        "### **What is the mean Order_Quantity of orders with more than 10K in revenue?**"
      ]
    },
    {
      "cell_type": "code",
      "metadata": {
        "colab": {
          "base_uri": "https://localhost:8080/",
          "height": 773
        },
        "id": "CK3oH_M1tvn4",
        "outputId": "2fe623c1-fa23-4801-eeeb-e69a77bd2b9f"
      },
      "source": [
        "cond = sales['Revenue'] > 10000\n",
        "sales.loc[cond]"
      ],
      "execution_count": 123,
      "outputs": [
        {
          "output_type": "execute_result",
          "data": {
            "text/html": [
              "<div>\n",
              "<style scoped>\n",
              "    .dataframe tbody tr th:only-of-type {\n",
              "        vertical-align: middle;\n",
              "    }\n",
              "\n",
              "    .dataframe tbody tr th {\n",
              "        vertical-align: top;\n",
              "    }\n",
              "\n",
              "    .dataframe thead th {\n",
              "        text-align: right;\n",
              "    }\n",
              "</style>\n",
              "<table border=\"1\" class=\"dataframe\">\n",
              "  <thead>\n",
              "    <tr style=\"text-align: right;\">\n",
              "      <th></th>\n",
              "      <th>Date</th>\n",
              "      <th>Day</th>\n",
              "      <th>Month</th>\n",
              "      <th>Year</th>\n",
              "      <th>Customer_Age</th>\n",
              "      <th>Age_Group</th>\n",
              "      <th>Customer_Gender</th>\n",
              "      <th>Country</th>\n",
              "      <th>State</th>\n",
              "      <th>Product_Category</th>\n",
              "      <th>Sub_Category</th>\n",
              "      <th>Product</th>\n",
              "      <th>Order_Quantity</th>\n",
              "      <th>Unit_Cost</th>\n",
              "      <th>Unit_Price</th>\n",
              "      <th>Profit</th>\n",
              "      <th>Cost</th>\n",
              "      <th>Revenue</th>\n",
              "      <th>Calculated_Date</th>\n",
              "    </tr>\n",
              "  </thead>\n",
              "  <tbody>\n",
              "    <tr>\n",
              "      <th>49327</th>\n",
              "      <td>2011-12-20</td>\n",
              "      <td>20</td>\n",
              "      <td>December</td>\n",
              "      <td>2011</td>\n",
              "      <td>33</td>\n",
              "      <td>Young Adults (25-34)</td>\n",
              "      <td>F</td>\n",
              "      <td>Australia</td>\n",
              "      <td>Victoria</td>\n",
              "      <td>Bikes</td>\n",
              "      <td>Mountain Bikes</td>\n",
              "      <td>Mountain-100 Black, 38</td>\n",
              "      <td>4</td>\n",
              "      <td>1898</td>\n",
              "      <td>3375</td>\n",
              "      <td>3073</td>\n",
              "      <td>7592</td>\n",
              "      <td>10715</td>\n",
              "      <td>2011-12-20</td>\n",
              "    </tr>\n",
              "    <tr>\n",
              "      <th>57273</th>\n",
              "      <td>2011-01-15</td>\n",
              "      <td>15</td>\n",
              "      <td>January</td>\n",
              "      <td>2011</td>\n",
              "      <td>72</td>\n",
              "      <td>Seniors (64+)</td>\n",
              "      <td>F</td>\n",
              "      <td>United States</td>\n",
              "      <td>California</td>\n",
              "      <td>Bikes</td>\n",
              "      <td>Mountain Bikes</td>\n",
              "      <td>Mountain-100 Black, 48</td>\n",
              "      <td>4</td>\n",
              "      <td>1898</td>\n",
              "      <td>3375</td>\n",
              "      <td>5638</td>\n",
              "      <td>7592</td>\n",
              "      <td>13280</td>\n",
              "      <td>2011-01-15</td>\n",
              "    </tr>\n",
              "    <tr>\n",
              "      <th>57297</th>\n",
              "      <td>2011-02-16</td>\n",
              "      <td>16</td>\n",
              "      <td>February</td>\n",
              "      <td>2011</td>\n",
              "      <td>35</td>\n",
              "      <td>Adults (35-64)</td>\n",
              "      <td>F</td>\n",
              "      <td>United States</td>\n",
              "      <td>Oregon</td>\n",
              "      <td>Bikes</td>\n",
              "      <td>Mountain Bikes</td>\n",
              "      <td>Mountain-100 Black, 48</td>\n",
              "      <td>4</td>\n",
              "      <td>1898</td>\n",
              "      <td>3375</td>\n",
              "      <td>4018</td>\n",
              "      <td>7592</td>\n",
              "      <td>11660</td>\n",
              "      <td>2011-02-16</td>\n",
              "    </tr>\n",
              "    <tr>\n",
              "      <th>57299</th>\n",
              "      <td>2011-12-19</td>\n",
              "      <td>19</td>\n",
              "      <td>December</td>\n",
              "      <td>2011</td>\n",
              "      <td>35</td>\n",
              "      <td>Adults (35-64)</td>\n",
              "      <td>F</td>\n",
              "      <td>United States</td>\n",
              "      <td>Oregon</td>\n",
              "      <td>Bikes</td>\n",
              "      <td>Mountain Bikes</td>\n",
              "      <td>Mountain-100 Black, 48</td>\n",
              "      <td>4</td>\n",
              "      <td>1898</td>\n",
              "      <td>3375</td>\n",
              "      <td>4018</td>\n",
              "      <td>7592</td>\n",
              "      <td>11660</td>\n",
              "      <td>2011-12-19</td>\n",
              "    </tr>\n",
              "    <tr>\n",
              "      <th>57311</th>\n",
              "      <td>2011-03-31</td>\n",
              "      <td>31</td>\n",
              "      <td>March</td>\n",
              "      <td>2011</td>\n",
              "      <td>30</td>\n",
              "      <td>Young Adults (25-34)</td>\n",
              "      <td>M</td>\n",
              "      <td>United States</td>\n",
              "      <td>Oregon</td>\n",
              "      <td>Bikes</td>\n",
              "      <td>Mountain Bikes</td>\n",
              "      <td>Mountain-100 Silver, 42</td>\n",
              "      <td>4</td>\n",
              "      <td>1912</td>\n",
              "      <td>3400</td>\n",
              "      <td>4048</td>\n",
              "      <td>7648</td>\n",
              "      <td>11746</td>\n",
              "      <td>2011-03-31</td>\n",
              "    </tr>\n",
              "    <tr>\n",
              "      <th>...</th>\n",
              "      <td>...</td>\n",
              "      <td>...</td>\n",
              "      <td>...</td>\n",
              "      <td>...</td>\n",
              "      <td>...</td>\n",
              "      <td>...</td>\n",
              "      <td>...</td>\n",
              "      <td>...</td>\n",
              "      <td>...</td>\n",
              "      <td>...</td>\n",
              "      <td>...</td>\n",
              "      <td>...</td>\n",
              "      <td>...</td>\n",
              "      <td>...</td>\n",
              "      <td>...</td>\n",
              "      <td>...</td>\n",
              "      <td>...</td>\n",
              "      <td>...</td>\n",
              "      <td>...</td>\n",
              "    </tr>\n",
              "    <tr>\n",
              "      <th>71497</th>\n",
              "      <td>2015-12-23</td>\n",
              "      <td>23</td>\n",
              "      <td>December</td>\n",
              "      <td>2015</td>\n",
              "      <td>44</td>\n",
              "      <td>Adults (35-64)</td>\n",
              "      <td>F</td>\n",
              "      <td>United States</td>\n",
              "      <td>California</td>\n",
              "      <td>Bikes</td>\n",
              "      <td>Road Bikes</td>\n",
              "      <td>Road-150 Red, 48</td>\n",
              "      <td>3</td>\n",
              "      <td>2171</td>\n",
              "      <td>3578</td>\n",
              "      <td>4006</td>\n",
              "      <td>6513</td>\n",
              "      <td>10569</td>\n",
              "      <td>2015-12-23</td>\n",
              "    </tr>\n",
              "    <tr>\n",
              "      <th>71531</th>\n",
              "      <td>2015-08-22</td>\n",
              "      <td>22</td>\n",
              "      <td>August</td>\n",
              "      <td>2015</td>\n",
              "      <td>17</td>\n",
              "      <td>Youth (&lt;25)</td>\n",
              "      <td>F</td>\n",
              "      <td>United States</td>\n",
              "      <td>California</td>\n",
              "      <td>Bikes</td>\n",
              "      <td>Road Bikes</td>\n",
              "      <td>Road-150 Red, 56</td>\n",
              "      <td>3</td>\n",
              "      <td>2171</td>\n",
              "      <td>3578</td>\n",
              "      <td>4006</td>\n",
              "      <td>6513</td>\n",
              "      <td>10569</td>\n",
              "      <td>2015-08-22</td>\n",
              "    </tr>\n",
              "    <tr>\n",
              "      <th>71555</th>\n",
              "      <td>2011-10-24</td>\n",
              "      <td>24</td>\n",
              "      <td>October</td>\n",
              "      <td>2011</td>\n",
              "      <td>19</td>\n",
              "      <td>Youth (&lt;25)</td>\n",
              "      <td>M</td>\n",
              "      <td>Canada</td>\n",
              "      <td>British Columbia</td>\n",
              "      <td>Bikes</td>\n",
              "      <td>Road Bikes</td>\n",
              "      <td>Road-150 Red, 56</td>\n",
              "      <td>3</td>\n",
              "      <td>2171</td>\n",
              "      <td>3578</td>\n",
              "      <td>4114</td>\n",
              "      <td>6513</td>\n",
              "      <td>10677</td>\n",
              "      <td>2011-10-24</td>\n",
              "    </tr>\n",
              "    <tr>\n",
              "      <th>112072</th>\n",
              "      <td>2013-07-24</td>\n",
              "      <td>24</td>\n",
              "      <td>July</td>\n",
              "      <td>2013</td>\n",
              "      <td>52</td>\n",
              "      <td>Adults (35-64)</td>\n",
              "      <td>M</td>\n",
              "      <td>Australia</td>\n",
              "      <td>Queensland</td>\n",
              "      <td>Clothing</td>\n",
              "      <td>Vests</td>\n",
              "      <td>Touring-1000 Yellow, 50</td>\n",
              "      <td>27</td>\n",
              "      <td>1482</td>\n",
              "      <td>2384</td>\n",
              "      <td>14055</td>\n",
              "      <td>40014</td>\n",
              "      <td>54119</td>\n",
              "      <td>2013-07-24</td>\n",
              "    </tr>\n",
              "    <tr>\n",
              "      <th>112073</th>\n",
              "      <td>2015-07-24</td>\n",
              "      <td>24</td>\n",
              "      <td>July</td>\n",
              "      <td>2015</td>\n",
              "      <td>52</td>\n",
              "      <td>Adults (35-64)</td>\n",
              "      <td>M</td>\n",
              "      <td>Australia</td>\n",
              "      <td>Queensland</td>\n",
              "      <td>Clothing</td>\n",
              "      <td>Vests</td>\n",
              "      <td>Touring-1000 Yellow, 50</td>\n",
              "      <td>29</td>\n",
              "      <td>1482</td>\n",
              "      <td>2384</td>\n",
              "      <td>15096</td>\n",
              "      <td>42978</td>\n",
              "      <td>58124</td>\n",
              "      <td>2015-07-24</td>\n",
              "    </tr>\n",
              "  </tbody>\n",
              "</table>\n",
              "<p>177 rows × 19 columns</p>\n",
              "</div>"
            ],
            "text/plain": [
              "             Date  Day     Month  Year  ...  Profit   Cost Revenue Calculated_Date\n",
              "49327  2011-12-20   20  December  2011  ...    3073   7592   10715      2011-12-20\n",
              "57273  2011-01-15   15   January  2011  ...    5638   7592   13280      2011-01-15\n",
              "57297  2011-02-16   16  February  2011  ...    4018   7592   11660      2011-02-16\n",
              "57299  2011-12-19   19  December  2011  ...    4018   7592   11660      2011-12-19\n",
              "57311  2011-03-31   31     March  2011  ...    4048   7648   11746      2011-03-31\n",
              "...           ...  ...       ...   ...  ...     ...    ...     ...             ...\n",
              "71497  2015-12-23   23  December  2015  ...    4006   6513   10569      2015-12-23\n",
              "71531  2015-08-22   22    August  2015  ...    4006   6513   10569      2015-08-22\n",
              "71555  2011-10-24   24   October  2011  ...    4114   6513   10677      2011-10-24\n",
              "112072 2013-07-24   24      July  2013  ...   14055  40014   54119      2013-07-24\n",
              "112073 2015-07-24   24      July  2015  ...   15096  42978   58124      2015-07-24\n",
              "\n",
              "[177 rows x 19 columns]"
            ]
          },
          "metadata": {},
          "execution_count": 123
        }
      ]
    },
    {
      "cell_type": "markdown",
      "metadata": {
        "id": "8IT1lNDxuQ3f"
      },
      "source": [
        "![Color.png](data:image/png;base64,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)"
      ]
    },
    {
      "cell_type": "markdown",
      "metadata": {
        "id": "gDhahpwnuTHF"
      },
      "source": [
        "### **What is the mean Order_Quantity of orders with less than 10K in revenue?**"
      ]
    },
    {
      "cell_type": "code",
      "metadata": {
        "colab": {
          "base_uri": "https://localhost:8080/",
          "height": 703
        },
        "id": "PnyzFTgxuOoH",
        "outputId": "bdb9c457-cd79-4b85-ecbf-8d29b7176ab4"
      },
      "source": [
        "cond = sales['Revenue'] < 10000\n",
        "sales.loc[cond]"
      ],
      "execution_count": 124,
      "outputs": [
        {
          "output_type": "execute_result",
          "data": {
            "text/html": [
              "<div>\n",
              "<style scoped>\n",
              "    .dataframe tbody tr th:only-of-type {\n",
              "        vertical-align: middle;\n",
              "    }\n",
              "\n",
              "    .dataframe tbody tr th {\n",
              "        vertical-align: top;\n",
              "    }\n",
              "\n",
              "    .dataframe thead th {\n",
              "        text-align: right;\n",
              "    }\n",
              "</style>\n",
              "<table border=\"1\" class=\"dataframe\">\n",
              "  <thead>\n",
              "    <tr style=\"text-align: right;\">\n",
              "      <th></th>\n",
              "      <th>Date</th>\n",
              "      <th>Day</th>\n",
              "      <th>Month</th>\n",
              "      <th>Year</th>\n",
              "      <th>Customer_Age</th>\n",
              "      <th>Age_Group</th>\n",
              "      <th>Customer_Gender</th>\n",
              "      <th>Country</th>\n",
              "      <th>State</th>\n",
              "      <th>Product_Category</th>\n",
              "      <th>Sub_Category</th>\n",
              "      <th>Product</th>\n",
              "      <th>Order_Quantity</th>\n",
              "      <th>Unit_Cost</th>\n",
              "      <th>Unit_Price</th>\n",
              "      <th>Profit</th>\n",
              "      <th>Cost</th>\n",
              "      <th>Revenue</th>\n",
              "      <th>Calculated_Date</th>\n",
              "    </tr>\n",
              "  </thead>\n",
              "  <tbody>\n",
              "    <tr>\n",
              "      <th>0</th>\n",
              "      <td>2013-11-26</td>\n",
              "      <td>26</td>\n",
              "      <td>November</td>\n",
              "      <td>2013</td>\n",
              "      <td>19</td>\n",
              "      <td>Youth (&lt;25)</td>\n",
              "      <td>M</td>\n",
              "      <td>Canada</td>\n",
              "      <td>British Columbia</td>\n",
              "      <td>Accessories</td>\n",
              "      <td>Bike Racks</td>\n",
              "      <td>Hitch Rack - 4-Bike</td>\n",
              "      <td>8</td>\n",
              "      <td>45</td>\n",
              "      <td>120</td>\n",
              "      <td>590</td>\n",
              "      <td>360</td>\n",
              "      <td>1000</td>\n",
              "      <td>2013-11-26</td>\n",
              "    </tr>\n",
              "    <tr>\n",
              "      <th>1</th>\n",
              "      <td>2015-11-26</td>\n",
              "      <td>26</td>\n",
              "      <td>November</td>\n",
              "      <td>2015</td>\n",
              "      <td>19</td>\n",
              "      <td>Youth (&lt;25)</td>\n",
              "      <td>M</td>\n",
              "      <td>Canada</td>\n",
              "      <td>British Columbia</td>\n",
              "      <td>Accessories</td>\n",
              "      <td>Bike Racks</td>\n",
              "      <td>Hitch Rack - 4-Bike</td>\n",
              "      <td>8</td>\n",
              "      <td>45</td>\n",
              "      <td>120</td>\n",
              "      <td>590</td>\n",
              "      <td>360</td>\n",
              "      <td>1000</td>\n",
              "      <td>2015-11-26</td>\n",
              "    </tr>\n",
              "    <tr>\n",
              "      <th>2</th>\n",
              "      <td>2014-03-23</td>\n",
              "      <td>23</td>\n",
              "      <td>March</td>\n",
              "      <td>2014</td>\n",
              "      <td>49</td>\n",
              "      <td>Adults (35-64)</td>\n",
              "      <td>M</td>\n",
              "      <td>Australia</td>\n",
              "      <td>New South Wales</td>\n",
              "      <td>Accessories</td>\n",
              "      <td>Bike Racks</td>\n",
              "      <td>Hitch Rack - 4-Bike</td>\n",
              "      <td>23</td>\n",
              "      <td>45</td>\n",
              "      <td>120</td>\n",
              "      <td>1366</td>\n",
              "      <td>1035</td>\n",
              "      <td>2451</td>\n",
              "      <td>2014-03-23</td>\n",
              "    </tr>\n",
              "    <tr>\n",
              "      <th>3</th>\n",
              "      <td>2016-03-23</td>\n",
              "      <td>23</td>\n",
              "      <td>March</td>\n",
              "      <td>2016</td>\n",
              "      <td>49</td>\n",
              "      <td>Adults (35-64)</td>\n",
              "      <td>M</td>\n",
              "      <td>Australia</td>\n",
              "      <td>New South Wales</td>\n",
              "      <td>Accessories</td>\n",
              "      <td>Bike Racks</td>\n",
              "      <td>Hitch Rack - 4-Bike</td>\n",
              "      <td>20</td>\n",
              "      <td>45</td>\n",
              "      <td>120</td>\n",
              "      <td>1188</td>\n",
              "      <td>900</td>\n",
              "      <td>2138</td>\n",
              "      <td>2016-03-23</td>\n",
              "    </tr>\n",
              "    <tr>\n",
              "      <th>4</th>\n",
              "      <td>2014-05-15</td>\n",
              "      <td>15</td>\n",
              "      <td>May</td>\n",
              "      <td>2014</td>\n",
              "      <td>47</td>\n",
              "      <td>Adults (35-64)</td>\n",
              "      <td>F</td>\n",
              "      <td>Australia</td>\n",
              "      <td>New South Wales</td>\n",
              "      <td>Accessories</td>\n",
              "      <td>Bike Racks</td>\n",
              "      <td>Hitch Rack - 4-Bike</td>\n",
              "      <td>4</td>\n",
              "      <td>45</td>\n",
              "      <td>120</td>\n",
              "      <td>238</td>\n",
              "      <td>180</td>\n",
              "      <td>468</td>\n",
              "      <td>2014-05-15</td>\n",
              "    </tr>\n",
              "    <tr>\n",
              "      <th>...</th>\n",
              "      <td>...</td>\n",
              "      <td>...</td>\n",
              "      <td>...</td>\n",
              "      <td>...</td>\n",
              "      <td>...</td>\n",
              "      <td>...</td>\n",
              "      <td>...</td>\n",
              "      <td>...</td>\n",
              "      <td>...</td>\n",
              "      <td>...</td>\n",
              "      <td>...</td>\n",
              "      <td>...</td>\n",
              "      <td>...</td>\n",
              "      <td>...</td>\n",
              "      <td>...</td>\n",
              "      <td>...</td>\n",
              "      <td>...</td>\n",
              "      <td>...</td>\n",
              "      <td>...</td>\n",
              "    </tr>\n",
              "    <tr>\n",
              "      <th>113031</th>\n",
              "      <td>2016-04-12</td>\n",
              "      <td>12</td>\n",
              "      <td>April</td>\n",
              "      <td>2016</td>\n",
              "      <td>41</td>\n",
              "      <td>Adults (35-64)</td>\n",
              "      <td>M</td>\n",
              "      <td>United Kingdom</td>\n",
              "      <td>England</td>\n",
              "      <td>Clothing</td>\n",
              "      <td>Vests</td>\n",
              "      <td>Classic Vest, S</td>\n",
              "      <td>3</td>\n",
              "      <td>24</td>\n",
              "      <td>64</td>\n",
              "      <td>112</td>\n",
              "      <td>72</td>\n",
              "      <td>234</td>\n",
              "      <td>2016-04-12</td>\n",
              "    </tr>\n",
              "    <tr>\n",
              "      <th>113032</th>\n",
              "      <td>2014-04-02</td>\n",
              "      <td>2</td>\n",
              "      <td>April</td>\n",
              "      <td>2014</td>\n",
              "      <td>18</td>\n",
              "      <td>Youth (&lt;25)</td>\n",
              "      <td>M</td>\n",
              "      <td>Australia</td>\n",
              "      <td>Queensland</td>\n",
              "      <td>Clothing</td>\n",
              "      <td>Vests</td>\n",
              "      <td>Classic Vest, M</td>\n",
              "      <td>22</td>\n",
              "      <td>24</td>\n",
              "      <td>64</td>\n",
              "      <td>655</td>\n",
              "      <td>528</td>\n",
              "      <td>1233</td>\n",
              "      <td>2014-04-02</td>\n",
              "    </tr>\n",
              "    <tr>\n",
              "      <th>113033</th>\n",
              "      <td>2016-04-02</td>\n",
              "      <td>2</td>\n",
              "      <td>April</td>\n",
              "      <td>2016</td>\n",
              "      <td>18</td>\n",
              "      <td>Youth (&lt;25)</td>\n",
              "      <td>M</td>\n",
              "      <td>Australia</td>\n",
              "      <td>Queensland</td>\n",
              "      <td>Clothing</td>\n",
              "      <td>Vests</td>\n",
              "      <td>Classic Vest, M</td>\n",
              "      <td>22</td>\n",
              "      <td>24</td>\n",
              "      <td>64</td>\n",
              "      <td>655</td>\n",
              "      <td>528</td>\n",
              "      <td>1233</td>\n",
              "      <td>2016-04-02</td>\n",
              "    </tr>\n",
              "    <tr>\n",
              "      <th>113034</th>\n",
              "      <td>2014-03-04</td>\n",
              "      <td>4</td>\n",
              "      <td>March</td>\n",
              "      <td>2014</td>\n",
              "      <td>37</td>\n",
              "      <td>Adults (35-64)</td>\n",
              "      <td>F</td>\n",
              "      <td>France</td>\n",
              "      <td>Seine (Paris)</td>\n",
              "      <td>Clothing</td>\n",
              "      <td>Vests</td>\n",
              "      <td>Classic Vest, L</td>\n",
              "      <td>24</td>\n",
              "      <td>24</td>\n",
              "      <td>64</td>\n",
              "      <td>684</td>\n",
              "      <td>576</td>\n",
              "      <td>1310</td>\n",
              "      <td>2014-03-04</td>\n",
              "    </tr>\n",
              "    <tr>\n",
              "      <th>113035</th>\n",
              "      <td>2016-03-04</td>\n",
              "      <td>4</td>\n",
              "      <td>March</td>\n",
              "      <td>2016</td>\n",
              "      <td>37</td>\n",
              "      <td>Adults (35-64)</td>\n",
              "      <td>F</td>\n",
              "      <td>France</td>\n",
              "      <td>Seine (Paris)</td>\n",
              "      <td>Clothing</td>\n",
              "      <td>Vests</td>\n",
              "      <td>Classic Vest, L</td>\n",
              "      <td>23</td>\n",
              "      <td>24</td>\n",
              "      <td>64</td>\n",
              "      <td>655</td>\n",
              "      <td>552</td>\n",
              "      <td>1257</td>\n",
              "      <td>2016-03-04</td>\n",
              "    </tr>\n",
              "  </tbody>\n",
              "</table>\n",
              "<p>112859 rows × 19 columns</p>\n",
              "</div>"
            ],
            "text/plain": [
              "             Date  Day     Month  Year  ...  Profit  Cost Revenue Calculated_Date\n",
              "0      2013-11-26   26  November  2013  ...     590   360    1000      2013-11-26\n",
              "1      2015-11-26   26  November  2015  ...     590   360    1000      2015-11-26\n",
              "2      2014-03-23   23     March  2014  ...    1366  1035    2451      2014-03-23\n",
              "3      2016-03-23   23     March  2016  ...    1188   900    2138      2016-03-23\n",
              "4      2014-05-15   15       May  2014  ...     238   180     468      2014-05-15\n",
              "...           ...  ...       ...   ...  ...     ...   ...     ...             ...\n",
              "113031 2016-04-12   12     April  2016  ...     112    72     234      2016-04-12\n",
              "113032 2014-04-02    2     April  2014  ...     655   528    1233      2014-04-02\n",
              "113033 2016-04-02    2     April  2016  ...     655   528    1233      2016-04-02\n",
              "113034 2014-03-04    4     March  2014  ...     684   576    1310      2014-03-04\n",
              "113035 2016-03-04    4     March  2016  ...     655   552    1257      2016-03-04\n",
              "\n",
              "[112859 rows x 19 columns]"
            ]
          },
          "metadata": {},
          "execution_count": 124
        }
      ]
    },
    {
      "cell_type": "markdown",
      "metadata": {
        "id": "yjm3l5Z2ucnB"
      },
      "source": [
        "![Color.png](data:image/png;base64,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)"
      ]
    },
    {
      "cell_type": "markdown",
      "metadata": {
        "id": "St9k5XuAugdb"
      },
      "source": [
        "### **How many orders were made in May of 2016?**"
      ]
    },
    {
      "cell_type": "code",
      "metadata": {
        "colab": {
          "base_uri": "https://localhost:8080/"
        },
        "id": "qCYQuRJiubgG",
        "outputId": "c2224803-0f0b-46bb-d3ba-58c8c5851bae"
      },
      "source": [
        "cond = (sales['Year'] == 2016) & (sales['Month'] == 'May')\n",
        "sales.loc[cond].shape[0]"
      ],
      "execution_count": 127,
      "outputs": [
        {
          "output_type": "execute_result",
          "data": {
            "text/plain": [
              "5015"
            ]
          },
          "metadata": {},
          "execution_count": 127
        }
      ]
    },
    {
      "cell_type": "markdown",
      "metadata": {
        "id": "DiLiN0wFu-d1"
      },
      "source": [
        "![Color.png](data:image/png;base64,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)"
      ]
    },
    {
      "cell_type": "markdown",
      "metadata": {
        "id": "6VaNZ_tIvBHg"
      },
      "source": [
        "### **How many orders were made between May and July of 2016**"
      ]
    },
    {
      "cell_type": "code",
      "metadata": {
        "colab": {
          "base_uri": "https://localhost:8080/"
        },
        "id": "P_mqzrEVuxPA",
        "outputId": "431181d6-b479-45d7-dfb7-009d0f46baad"
      },
      "source": [
        "cond = (sales['Year'] == 2016) & (sales['Month'].isin(['May','June','July']))\n",
        "sales.loc[cond].shape[0]"
      ],
      "execution_count": 132,
      "outputs": [
        {
          "output_type": "execute_result",
          "data": {
            "text/plain": [
              "12164"
            ]
          },
          "metadata": {},
          "execution_count": 132
        }
      ]
    },
    {
      "cell_type": "code",
      "metadata": {
        "id": "JZXYFMcRvZlP"
      },
      "source": [
        ""
      ],
      "execution_count": null,
      "outputs": []
    }
  ]
}